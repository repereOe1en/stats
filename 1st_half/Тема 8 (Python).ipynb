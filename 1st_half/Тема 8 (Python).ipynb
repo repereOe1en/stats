{
 "cells": [
  {
   "cell_type": "code",
   "execution_count": 3,
   "outputs": [],
   "source": [
    "import numpy as np\n",
    "import scipy.stats as st\n",
    "import matplotlib.pyplot as plt\n",
    "import statistics as stat"
   ],
   "metadata": {
    "collapsed": false,
    "ExecuteTime": {
     "end_time": "2023-12-21T04:16:42.938413Z",
     "start_time": "2023-12-21T04:16:40.483190Z"
    }
   },
   "id": "1352845ee4453a56"
  },
  {
   "cell_type": "markdown",
   "source": [
    "2. X1, ..., Xn ∼ R[0, θ]."
   ],
   "metadata": {
    "collapsed": false
   },
   "id": "c5afd9196db3c880"
  },
  {
   "cell_type": "markdown",
   "source": [
    "(a) Построить асимптотический доверительный интервал, используя X. Найти эмпирически доверительную вероятность этого интервала (построить 1000 выборок, подсчитать долю тех, для которых интервал накрыл истинное значение параметра, для n = 20, 50, 100."
   ],
   "metadata": {
    "collapsed": false
   },
   "id": "6b5a0fa3bd350758"
  },
  {
   "cell_type": "code",
   "execution_count": 27,
   "outputs": [
    {
     "name": "stdout",
     "output_type": "stream",
     "text": [
      "[932, 934, 948]\n"
     ]
    }
   ],
   "source": [
    "nmas=[20,50,100]\n",
    "theta=float(input())\n",
    "alpha=float(input())\n",
    "count=[0,0,0]\n",
    "counter=0\n",
    "for n in nmas:\n",
    "\tfor i in range(1000):\n",
    "\t\tX=np.random.uniform(low=0,high=theta,size=n)\n",
    "\t\tbar=stat.mean(X)\n",
    "\t\tlwr=2*bar*(1-st.norm.ppf(1-alpha/2,loc=0,scale=1)/(3*n)**0.5)\n",
    "\t\tupr=2*bar*(1-st.norm.ppf(alpha/2,loc=0,scale=1)/(3*n)**0.5)\n",
    "\t\tif theta<upr and theta>lwr:\n",
    "\t\t\tcount[counter]+=1\n",
    "\tcounter+=1\n",
    "print(count)"
   ],
   "metadata": {
    "collapsed": false,
    "ExecuteTime": {
     "end_time": "2023-12-21T07:21:14.767760Z",
     "start_time": "2023-12-21T07:21:10.951837Z"
    }
   },
   "id": "79b2be7e93f751ca"
  },
  {
   "cell_type": "markdown",
   "source": [
    "(b) Построить точный доверительный интервал, используя достаточную статистику. Сравнить средние длины точного и асимптотического интервалов при n = 20, 50, 100."
   ],
   "metadata": {
    "collapsed": false
   },
   "id": "d943a1b57c100424"
  },
  {
   "cell_type": "code",
   "execution_count": 10,
   "outputs": [
    {
     "name": "stdout",
     "output_type": "stream",
     "text": [
      "[932, 949, 954]\n",
      "[950, 954, 960]\n",
      "[890, 908, 918]\n",
      "[0, 0, 0]\n"
     ]
    }
   ],
   "source": [
    "#достаточная статистика - X(n)\n",
    "#P(X(n)<=x)=P(Xi<+X forall i in 1...n)=x^n/theta^n\n",
    "#0.975=P(X(n)<u)=u^n/theta^n=>u=0.975^(1/n)*theta\n",
    "#0.025=P(X(n)<=l)=l^n/theta^n=>l=0.025^(1/n)*theta\n",
    "#P(0.025^(1/n)*theta<X(n)<0.975^(1/n)*theta)=0.95=>\n",
    "#P(0.025^(1/n)/X(n)<1/theta<0.975^(1/n)/X(n))=0.95=>\n",
    "#P(X(n)/0.025^(1/n)>theta>X(n)/0.975^(1/n))=0.95=>\n",
    "#доверительный интервал имеет вид (X(n)/0.975^(1/n),X(n)/0.025^(1/n))\n",
    "nmas=[20,50,100]\n",
    "theta=float(input())\n",
    "alpha=float(input())\n",
    "counter=0\n",
    "counter_as_true=[0,0,0]\n",
    "counter_prec_true=[0,0,0]\n",
    "counter_both_true=[0,0,0]\n",
    "counter_as_better=[0,0,0]\n",
    "for n in nmas:\n",
    "\tfor i in range(1000):\n",
    "\t\tX=np.random.uniform(low=0,high=theta,size=n)\n",
    "\t\tbar=stat.mean(X)\n",
    "\t\txn=max(X)\n",
    "\t\taslwr=2*bar*(1-st.norm.ppf(1-alpha/2,loc=0,scale=1)/(3*n)**0.5)\n",
    "\t\tasupr=2*bar*(1-st.norm.ppf(alpha/2,loc=0,scale=1)/(3*n)**0.5)\n",
    "\t\tpreclwr=xn*0.975**(-1/n)\n",
    "\t\tprecupr=xn*0.025**(-1/n)\n",
    "\t\tif theta>aslwr and theta<asupr:\n",
    "\t\t\tcounter_as_true[counter]+=1\n",
    "\t\t\tif theta>preclwr and theta<precupr:\n",
    "\t\t\t\tcounter_both_true[counter]+=1\n",
    "\t\t\t\tif asupr-aslwr<precupr-preclwr:\n",
    "\t\t\t\t\tcounter_as_better[counter]+=1\n",
    "\t\tif theta>preclwr and theta<precupr:\n",
    "\t\t\tcounter_prec_true[counter]+=1\n",
    "\tcounter+=1\n",
    "print(counter_as_true)\n",
    "print(counter_prec_true)\n",
    "print(counter_both_true)\n",
    "print(counter_as_better)"
   ],
   "metadata": {
    "collapsed": false,
    "ExecuteTime": {
     "end_time": "2023-12-21T06:20:40.740896Z",
     "start_time": "2023-12-21T06:20:37.014558Z"
    }
   },
   "id": "c592dbf14b5d496d"
  },
  {
   "cell_type": "markdown",
   "source": [
    "3. X1, ..., Xn ∼ Bern(θ). Построить асимптотический доверительный интервал двумя способами с помощью X, сравнить средние длины полученных интервалов (генерировать 1000 выборок, по каждой строить оба интервала, посчитать и показать средние длины) для θ = 0.1, 0.4, 0.5, 0.9 и n = 20, 50, 100."
   ],
   "metadata": {
    "collapsed": false
   },
   "id": "e99f64ee19acf46d"
  },
  {
   "cell_type": "code",
   "execution_count": 25,
   "outputs": [
    {
     "name": "stdout",
     "output_type": "stream",
     "text": [
      "20 0.1 подстановка 0.2353482222846961\n",
      "20 0.1 стаб.ас.дисп. 0.22788624199310692\n",
      "20 0.4 подстановка 0.4176599609887135\n",
      "20 0.4 стаб.ас.дисп. 0.40441758181444637\n",
      "20 0.5 подстановка 0.42650685119041803\n",
      "20 0.5 стаб.ас.дисп. 0.41298397140439314\n",
      "20 0.9 подстановка 0.2333977950600108\n",
      "20 0.9 стаб.ас.дисп. 0.22599765525894888\n",
      "50 0.1 подстановка 0.161146661122176\n",
      "50 0.1 стаб.ас.дисп. 0.15909111246160004\n",
      "50 0.4 подстановка 0.26922281555034716\n",
      "50 0.4 стаб.ас.дисп. 0.265788673049055\n",
      "50 0.5 подстановка 0.2744350928711223\n",
      "50 0.5 стаб.ас.дисп. 0.27093446379424324\n",
      "50 0.9 подстановка 0.16273408757292213\n",
      "50 0.9 стаб.ас.дисп. 0.1606582900763363\n",
      "100 0.1 подстановка 0.11490120282885682\n",
      "100 0.1 стаб.ас.дисп. 0.11416696745095047\n",
      "100 0.4 подстановка 0.1911107324811725\n",
      "100 0.4 стаб.ас.дисп. 0.18988950713774178\n",
      "100 0.5 подстановка 0.19512106868692106\n",
      "100 0.5 стаб.ас.дисп. 0.19387421671254945\n",
      "100 0.9 подстановка 0.11633433576495583\n",
      "100 0.9 стаб.ас.дисп. 0.11559094245939494\n"
     ]
    }
   ],
   "source": [
    "nmas=[20,50,100]\n",
    "thetamas=[0.1,0.4,0.5,0.9]\n",
    "alpha=float(input())\n",
    "for n in nmas:\n",
    "\tfor theta in thetamas:\n",
    "\t\tlwr1=[]\n",
    "\t\tupr1=[]\n",
    "\t\tlwr2=[]\n",
    "\t\tupr2=[]\n",
    "\t\tfor i in range(1000):\n",
    "\t\t\tX=np.random.binomial(1,theta,size=n)\n",
    "\t\t\tbar=np.mean(X)\n",
    "\t\t\tq=st.norm.ppf(1-alpha/2,loc=0,scale=1)\n",
    "\t\t\tlwr1.append(bar-q*(bar*(1-bar))**0.5/n**0.5)\n",
    "\t\t\tupr1.append(bar+q*(bar*(1-bar))**0.5/n**0.5)\n",
    "\t\t\tlwr2.append(np.sin(np.arcsin(bar**0.5)-q/2/n**0.5)**2)\n",
    "\t\t\tupr2.append(np.sin(np.arcsin(bar**0.5)+q/2/n**0.5)**2)\n",
    "\t\tprint(str(n)+' '+str(theta)+' подстановка '+str(stat.mean([upr1[i]-lwr1[i] for i in range(1000)])))\n",
    "\t\tprint(str(n)+' '+str(theta)+' стаб.ас.дисп. '+str(stat.mean([upr2[i]-lwr2[i] for i in range(1000)])))\n",
    "\t\t\t\n",
    "\t\t"
   ],
   "metadata": {
    "collapsed": false,
    "ExecuteTime": {
     "end_time": "2023-12-21T06:56:47.233980Z",
     "start_time": "2023-12-21T06:56:44.743357Z"
    }
   },
   "id": "c7c723a24fb9e1fb"
  },
  {
   "cell_type": "code",
   "execution_count": null,
   "outputs": [],
   "source": [],
   "metadata": {
    "collapsed": false
   },
   "id": "d9088852f240aa64"
  }
 ],
 "metadata": {
  "kernelspec": {
   "display_name": "Python 3",
   "language": "python",
   "name": "python3"
  },
  "language_info": {
   "codemirror_mode": {
    "name": "ipython",
    "version": 2
   },
   "file_extension": ".py",
   "mimetype": "text/x-python",
   "name": "python",
   "nbconvert_exporter": "python",
   "pygments_lexer": "ipython2",
   "version": "2.7.6"
  }
 },
 "nbformat": 4,
 "nbformat_minor": 5
}
