{
 "cells": [
  {
   "cell_type": "markdown",
   "metadata": {},
   "source": [
    "# Введение в R"
   ]
  },
  {
   "cell_type": "markdown",
   "metadata": {},
   "source": [
    "Это блокнот - удобное средство для проведения экспериментов и анализа данных.\n",
    "Так можно оформлять текст, создавать заголовки, делить программу на небольшие автономные блоки"
   ]
  },
  {
   "cell_type": "markdown",
   "metadata": {},
   "source": [
    "## Переменные"
   ]
  },
  {
   "cell_type": "code",
   "execution_count": 8,
   "metadata": {},
   "outputs": [
    {
     "name": "stdout",
     "output_type": "stream",
     "text": [
      "     [,1] [,2]\n",
      "[1,]    1    2\n",
      "[2,]    3    4\n",
      "  Ball   Man Group\n",
      "1    5  Ivan   503\n",
      "2    5  Petr   504\n",
      "3    4 Boris   505\n"
     ]
    }
   ],
   "source": [
    "#Переменные в R не требуется объявлять, просто положите в них что-то\n",
    "int_var = 5 # целое число\n",
    "float_var = 0.53 # вещественное число\n",
    "str_var = \"string\" # строка\n",
    "bool_var = TRUE # логический тип\n",
    "vec_var = c(1,2,3,4) #с - стандартный оператор для склейки чисел, строк или других однотипных элементов в вектор\n",
    "matr_var1 = matrix(0, nrow = 5, ncol = 6) #нулевая матрица 5 на 6\n",
    "matr_var2 = matrix(array_var, ncol = 2, byrow = TRUE) #матрица, созданная из вектора по строкам\n",
    "print(matr_var2)\n",
    "dataFrame_var = data.frame(\"Ball\" = c(5,5,4), \"Man\" = c(\"Ivan\", \"Petr\", \"Boris\"), \"Group\" = c(503, 504, 505))\n",
    "#dataFrame - массив с данными, все элементы столбца имеют один тип, а в строке разный. \n",
    "print(dataFrame_var)\n",
    "list_var = list(5, 4, \"Babushka\", matr_var1, dataFrame_var) #список - это набор элементов любой структуры,\n",
    "#часть из которых могут быть массивами, часть строками, часть числами, а часть списками."
   ]
  },
  {
   "cell_type": "markdown",
   "metadata": {},
   "source": [
    "Можно перегонять переменные из одного типа в другой"
   ]
  },
  {
   "cell_type": "code",
   "execution_count": 14,
   "metadata": {},
   "outputs": [
    {
     "name": "stdout",
     "output_type": "stream",
     "text": [
      "[1] \"5\"\n",
      "[1] 5\n",
      "  V1 V2\n",
      "1  1  2\n",
      "2  3  4\n",
      "[[1]]\n",
      "[1] 1 2 3 4\n",
      "\n"
     ]
    }
   ],
   "source": [
    "print(as.character(int_var)) #делаем строку из числа\n",
    "print(as.integer(\"5\")) #число из строки\n",
    "print(as.data.frame(matr_var2)) #dataFrame из массива\n",
    "print(list(vec_var)) #список, в котором первый элемент - массив"
   ]
  },
  {
   "cell_type": "markdown",
   "metadata": {},
   "source": [
    "## Вывод данных"
   ]
  },
  {
   "cell_type": "markdown",
   "metadata": {},
   "source": [
    "Вывод, как мы уже делали выше, можно осуществлять функцией print"
   ]
  },
  {
   "cell_type": "code",
   "execution_count": 16,
   "metadata": {},
   "outputs": [
    {
     "name": "stdout",
     "output_type": "stream",
     "text": [
      "[1] \"42 is a magic number\"\n"
     ]
    }
   ],
   "source": [
    "print(\"42 is a magic number\")"
   ]
  },
  {
   "cell_type": "markdown",
   "metadata": {},
   "source": [
    "А можно просто написать название переменной"
   ]
  },
  {
   "cell_type": "code",
   "execution_count": 15,
   "metadata": {},
   "outputs": [
    {
     "data": {
      "text/html": [
       "'string'"
      ],
      "text/latex": [
       "'string'"
      ],
      "text/markdown": [
       "'string'"
      ],
      "text/plain": [
       "[1] \"string\""
      ]
     },
     "metadata": {},
     "output_type": "display_data"
    }
   ],
   "source": [
    "str_var"
   ]
  },
  {
   "cell_type": "markdown",
   "metadata": {},
   "source": [
    "Правда в цикле второй вариант не будет работать"
   ]
  },
  {
   "cell_type": "code",
   "execution_count": 21,
   "metadata": {},
   "outputs": [],
   "source": [
    "for (i in 1:5) \n",
    "    {\n",
    "        str_var\n",
    "    }"
   ]
  },
  {
   "cell_type": "markdown",
   "metadata": {},
   "source": [
    "## Работа с векторами, матрицами, dataFrame"
   ]
  },
  {
   "cell_type": "markdown",
   "metadata": {},
   "source": [
    "Важное замечание - R язык пользователей, а не программистов. Поэтому переменные там нумеруются с единицы, а не с нуля"
   ]
  },
  {
   "cell_type": "code",
   "execution_count": 48,
   "metadata": {},
   "outputs": [
    {
     "data": {
      "text/html": [
       "<ol class=list-inline>\n",
       "\t<li>0</li>\n",
       "\t<li>&lt;NA&gt;</li>\n",
       "\t<li>&lt;NA&gt;</li>\n",
       "\t<li>&lt;NA&gt;</li>\n",
       "\t<li>6</li>\n",
       "</ol>\n"
      ],
      "text/latex": [
       "\\begin{enumerate*}\n",
       "\\item 0\n",
       "\\item <NA>\n",
       "\\item <NA>\n",
       "\\item <NA>\n",
       "\\item 6\n",
       "\\end{enumerate*}\n"
      ],
      "text/markdown": [
       "1. 0\n",
       "2. &lt;NA&gt;\n",
       "3. &lt;NA&gt;\n",
       "4. &lt;NA&gt;\n",
       "5. 6\n",
       "\n",
       "\n"
      ],
      "text/plain": [
       "[1]  0 NA NA NA  6"
      ]
     },
     "metadata": {},
     "output_type": "display_data"
    },
    {
     "data": {
      "text/html": [
       "<ol class=list-inline>\n",
       "\t<li>0</li>\n",
       "\t<li>0</li>\n",
       "\t<li>0</li>\n",
       "\t<li>6</li>\n",
       "\t<li>5</li>\n",
       "\t<li>6</li>\n",
       "\t<li>7</li>\n",
       "</ol>\n"
      ],
      "text/latex": [
       "\\begin{enumerate*}\n",
       "\\item 0\n",
       "\\item 0\n",
       "\\item 0\n",
       "\\item 6\n",
       "\\item 5\n",
       "\\item 6\n",
       "\\item 7\n",
       "\\end{enumerate*}\n"
      ],
      "text/markdown": [
       "1. 0\n",
       "2. 0\n",
       "3. 0\n",
       "4. 6\n",
       "5. 5\n",
       "6. 6\n",
       "7. 7\n",
       "\n",
       "\n"
      ],
      "text/plain": [
       "[1] 0 0 0 6 5 6 7"
      ]
     },
     "metadata": {},
     "output_type": "display_data"
    },
    {
     "data": {
      "text/html": [
       "<table>\n",
       "<tbody>\n",
       "\t<tr><td>0</td><td>5</td><td>0</td><td>0</td><td>0</td><td>0</td><td>0</td><td>0</td></tr>\n",
       "\t<tr><td>0</td><td>5</td><td>0</td><td>0</td><td>0</td><td>0</td><td>0</td><td>0</td></tr>\n",
       "</tbody>\n",
       "</table>\n"
      ],
      "text/latex": [
       "\\begin{tabular}{llllllll}\n",
       "\t 0 & 5 & 0 & 0 & 0 & 0 & 0 & 0\\\\\n",
       "\t 0 & 5 & 0 & 0 & 0 & 0 & 0 & 0\\\\\n",
       "\\end{tabular}\n"
      ],
      "text/markdown": [
       "\n",
       "| 0 | 5 | 0 | 0 | 0 | 0 | 0 | 0 |\n",
       "| 0 | 5 | 0 | 0 | 0 | 0 | 0 | 0 |\n",
       "\n"
      ],
      "text/plain": [
       "     [,1] [,2] [,3] [,4] [,5] [,6] [,7] [,8]\n",
       "[1,] 0    5    0    0    0    0    0    0   \n",
       "[2,] 0    5    0    0    0    0    0    0   "
      ]
     },
     "metadata": {},
     "output_type": "display_data"
    },
    {
     "data": {
      "text/html": [
       "<table>\n",
       "<tbody>\n",
       "\t<tr><th scope=row></th><td>0</td><td>5</td><td>0</td><td>0</td><td>0</td><td>0</td><td>0</td><td>0</td></tr>\n",
       "\t<tr><th scope=row></th><td>0</td><td>5</td><td>0</td><td>0</td><td>0</td><td>0</td><td>0</td><td>0</td></tr>\n",
       "\t<tr><th scope=row>vec</th><td>0</td><td>0</td><td>0</td><td>0</td><td>6</td><td>5</td><td>6</td><td>7</td></tr>\n",
       "</tbody>\n",
       "</table>\n"
      ],
      "text/latex": [
       "\\begin{tabular}{r|llllllll}\n",
       "\t & 0 & 5 & 0 & 0 & 0 & 0 & 0 & 0\\\\\n",
       "\t & 0 & 5 & 0 & 0 & 0 & 0 & 0 & 0\\\\\n",
       "\tvec & 0 & 0 & 0 & 0 & 6 & 5 & 6 & 7\\\\\n",
       "\\end{tabular}\n"
      ],
      "text/markdown": [
       "\n",
       "|  | 0 | 5 | 0 | 0 | 0 | 0 | 0 | 0 |\n",
       "|  | 0 | 5 | 0 | 0 | 0 | 0 | 0 | 0 |\n",
       "| vec | 0 | 0 | 0 | 0 | 6 | 5 | 6 | 7 |\n",
       "\n"
      ],
      "text/plain": [
       "    [,1] [,2] [,3] [,4] [,5] [,6] [,7] [,8]\n",
       "    0    5    0    0    0    0    0    0   \n",
       "    0    5    0    0    0    0    0    0   \n",
       "vec 0    0    0    0    6    5    6    7   "
      ]
     },
     "metadata": {},
     "output_type": "display_data"
    },
    {
     "data": {
      "text/html": [
       "<table>\n",
       "<tbody>\n",
       "\t<tr><td>0</td><td>5</td><td>0</td><td>0</td><td>0</td><td>0</td><td>0</td><td>0</td><td>5</td></tr>\n",
       "\t<tr><td>0</td><td>5</td><td>0</td><td>0</td><td>0</td><td>0</td><td>0</td><td>0</td><td>6</td></tr>\n",
       "</tbody>\n",
       "</table>\n"
      ],
      "text/latex": [
       "\\begin{tabular}{lllllllll}\n",
       "\t 0 & 5 & 0 & 0 & 0 & 0 & 0 & 0 & 5\\\\\n",
       "\t 0 & 5 & 0 & 0 & 0 & 0 & 0 & 0 & 6\\\\\n",
       "\\end{tabular}\n"
      ],
      "text/markdown": [
       "\n",
       "| 0 | 5 | 0 | 0 | 0 | 0 | 0 | 0 | 5 |\n",
       "| 0 | 5 | 0 | 0 | 0 | 0 | 0 | 0 | 6 |\n",
       "\n"
      ],
      "text/plain": [
       "     [,1] [,2] [,3] [,4] [,5] [,6] [,7] [,8] [,9]\n",
       "[1,] 0    5    0    0    0    0    0    0    5   \n",
       "[2,] 0    5    0    0    0    0    0    0    6   "
      ]
     },
     "metadata": {},
     "output_type": "display_data"
    }
   ],
   "source": [
    "vec = 0 \n",
    "vec[5] = 6 #переменная vec была числовой, а в этот момент стала вектором, у которого первый элемент тот же, пятый мы \n",
    "#заполнили, а остальные остались неопределенными (NA)\n",
    "vec\n",
    "vec[2:4] = 0 #заполним диапазон из остальных переменных нулями\n",
    "vec[6:8] = 5:7 #а дальше поставим числа от 5 до 7\n",
    "vec[-1] #в отличие от python в R индексы с отрицательными номерами выбрасываются из рассмотрения, \n",
    "#то есть в данном случае получили вектор vec без 1 элемента\n",
    "\n",
    "#Точно так же можно действовать с матрицами\n",
    "matr = matrix(0,2,8)\n",
    "matr[1:2,2] = 5\n",
    "matr\n",
    "#Можно объединять матрицы или векторы с помощью команд cbind и rbind (склейка столбцов и строк):\n",
    "rbind(matr, vec)\n",
    "cbind(matr,c(5,6))"
   ]
  },
  {
   "cell_type": "markdown",
   "metadata": {},
   "source": [
    "Можно применять к матрицами и векторам функции, это будет сделано поэлементно"
   ]
  },
  {
   "cell_type": "code",
   "execution_count": 34,
   "metadata": {},
   "outputs": [
    {
     "data": {
      "text/html": [
       "<ol class=list-inline>\n",
       "\t<li>4</li>\n",
       "\t<li>5</li>\n",
       "\t<li>6</li>\n",
       "\t<li>7</li>\n",
       "\t<li>8</li>\n",
       "</ol>\n"
      ],
      "text/latex": [
       "\\begin{enumerate*}\n",
       "\\item 4\n",
       "\\item 5\n",
       "\\item 6\n",
       "\\item 7\n",
       "\\item 8\n",
       "\\end{enumerate*}\n"
      ],
      "text/markdown": [
       "1. 4\n",
       "2. 5\n",
       "3. 6\n",
       "4. 7\n",
       "5. 8\n",
       "\n",
       "\n"
      ],
      "text/plain": [
       "[1] 4 5 6 7 8"
      ]
     },
     "metadata": {},
     "output_type": "display_data"
    },
    {
     "data": {
      "text/html": [
       "<ol class=list-inline>\n",
       "\t<li>2</li>\n",
       "\t<li>4</li>\n",
       "\t<li>6</li>\n",
       "\t<li>8</li>\n",
       "\t<li>10</li>\n",
       "</ol>\n"
      ],
      "text/latex": [
       "\\begin{enumerate*}\n",
       "\\item 2\n",
       "\\item 4\n",
       "\\item 6\n",
       "\\item 8\n",
       "\\item 10\n",
       "\\end{enumerate*}\n"
      ],
      "text/markdown": [
       "1. 2\n",
       "2. 4\n",
       "3. 6\n",
       "4. 8\n",
       "5. 10\n",
       "\n",
       "\n"
      ],
      "text/plain": [
       "[1]  2  4  6  8 10"
      ]
     },
     "metadata": {},
     "output_type": "display_data"
    },
    {
     "data": {
      "text/html": [
       "<ol class=list-inline>\n",
       "\t<li>1</li>\n",
       "\t<li>4</li>\n",
       "\t<li>9</li>\n",
       "\t<li>16</li>\n",
       "\t<li>25</li>\n",
       "</ol>\n"
      ],
      "text/latex": [
       "\\begin{enumerate*}\n",
       "\\item 1\n",
       "\\item 4\n",
       "\\item 9\n",
       "\\item 16\n",
       "\\item 25\n",
       "\\end{enumerate*}\n"
      ],
      "text/markdown": [
       "1. 1\n",
       "2. 4\n",
       "3. 9\n",
       "4. 16\n",
       "5. 25\n",
       "\n",
       "\n"
      ],
      "text/plain": [
       "[1]  1  4  9 16 25"
      ]
     },
     "metadata": {},
     "output_type": "display_data"
    }
   ],
   "source": [
    "vec1 = 1:5\n",
    "vec2 = 3\n",
    "vec1 + vec2\n",
    "vec1 * 2\n",
    "vec1^2"
   ]
  },
  {
   "cell_type": "markdown",
   "metadata": {},
   "source": [
    "### Как работать с dataFrame?"
   ]
  },
  {
   "cell_type": "code",
   "execution_count": 49,
   "metadata": {},
   "outputs": [
    {
     "data": {
      "text/html": [
       "<ol class=list-inline>\n",
       "\t<li>5</li>\n",
       "\t<li>5</li>\n",
       "\t<li>4</li>\n",
       "</ol>\n"
      ],
      "text/latex": [
       "\\begin{enumerate*}\n",
       "\\item 5\n",
       "\\item 5\n",
       "\\item 4\n",
       "\\end{enumerate*}\n"
      ],
      "text/markdown": [
       "1. 5\n",
       "2. 5\n",
       "3. 4\n",
       "\n",
       "\n"
      ],
      "text/plain": [
       "[1] 5 5 4"
      ]
     },
     "metadata": {},
     "output_type": "display_data"
    },
    {
     "data": {
      "text/html": [
       "<ol class=list-inline>\n",
       "\t<li>5</li>\n",
       "\t<li>5</li>\n",
       "\t<li>4</li>\n",
       "</ol>\n"
      ],
      "text/latex": [
       "\\begin{enumerate*}\n",
       "\\item 5\n",
       "\\item 5\n",
       "\\item 4\n",
       "\\end{enumerate*}\n"
      ],
      "text/markdown": [
       "1. 5\n",
       "2. 5\n",
       "3. 4\n",
       "\n",
       "\n"
      ],
      "text/plain": [
       "[1] 5 5 4"
      ]
     },
     "metadata": {},
     "output_type": "display_data"
    },
    {
     "data": {
      "text/html": [
       "<ol class=list-inline>\n",
       "\t<li>5</li>\n",
       "\t<li>5</li>\n",
       "\t<li>4</li>\n",
       "</ol>\n"
      ],
      "text/latex": [
       "\\begin{enumerate*}\n",
       "\\item 5\n",
       "\\item 5\n",
       "\\item 4\n",
       "\\end{enumerate*}\n"
      ],
      "text/markdown": [
       "1. 5\n",
       "2. 5\n",
       "3. 4\n",
       "\n",
       "\n"
      ],
      "text/plain": [
       "[1] 5 5 4"
      ]
     },
     "metadata": {},
     "output_type": "display_data"
    },
    {
     "name": "stdout",
     "output_type": "stream",
     "text": [
      "'data.frame':\t3 obs. of  4 variables:\n",
      " $ Ball : num  5 5 4\n",
      " $ Man  : Factor w/ 3 levels \"Boris\",\"Ivan\",..: 2 3 1\n",
      " $ Group: num  503 504 505\n",
      " $ Sex  : chr  \"M\" \"M\" \"M\"\n"
     ]
    },
    {
     "data": {
      "text/plain": [
       "      Ball          Man        Group           Sex           \n",
       " Min.   :4.000   Boris:1   Min.   :503.0   Length:3          \n",
       " 1st Qu.:4.500   Ivan :1   1st Qu.:503.5   Class :character  \n",
       " Median :5.000   Petr :1   Median :504.0   Mode  :character  \n",
       " Mean   :4.667             Mean   :504.0                     \n",
       " 3rd Qu.:5.000             3rd Qu.:504.5                     \n",
       " Max.   :5.000             Max.   :505.0                     "
      ]
     },
     "metadata": {},
     "output_type": "display_data"
    },
    {
     "data": {
      "text/html": [
       "<table>\n",
       "<thead><tr><th scope=col>Ball</th><th scope=col>Man</th><th scope=col>Group</th><th scope=col>Sex</th></tr></thead>\n",
       "<tbody>\n",
       "\t<tr><td>5    </td><td>Ivan </td><td>503  </td><td>M    </td></tr>\n",
       "\t<tr><td>5    </td><td>Petr </td><td>504  </td><td>M    </td></tr>\n",
       "\t<tr><td>4    </td><td>Boris</td><td>505  </td><td>M    </td></tr>\n",
       "</tbody>\n",
       "</table>\n"
      ],
      "text/latex": [
       "\\begin{tabular}{r|llll}\n",
       " Ball & Man & Group & Sex\\\\\n",
       "\\hline\n",
       "\t 5     & Ivan  & 503   & M    \\\\\n",
       "\t 5     & Petr  & 504   & M    \\\\\n",
       "\t 4     & Boris & 505   & M    \\\\\n",
       "\\end{tabular}\n"
      ],
      "text/markdown": [
       "\n",
       "| Ball | Man | Group | Sex |\n",
       "|---|---|---|---|\n",
       "| 5     | Ivan  | 503   | M     |\n",
       "| 5     | Petr  | 504   | M     |\n",
       "| 4     | Boris | 505   | M     |\n",
       "\n"
      ],
      "text/plain": [
       "  Ball Man   Group Sex\n",
       "1 5    Ivan  503   M  \n",
       "2 5    Petr  504   M  \n",
       "3 4    Boris 505   M  "
      ]
     },
     "metadata": {},
     "output_type": "display_data"
    }
   ],
   "source": [
    "#Можно работать как с матрицей\n",
    "dataFrame_var[,1] #здесь мы не указываем первую переменную, поэтому строки берутся все, а столбец только первый\n",
    "dataFrame_var[,'Ball'] #здесь мы используем имя столбца\n",
    "dataFrame_var$Ball[] #здесь то же самое, но через $\n",
    "#Можно добавлять к dataFrame столбцы просто закладывая в них что-то\n",
    "dataFrame_var$Sex = 'M'\n",
    "\n",
    "#важные команды\n",
    "str(dataFrame_var) #описания содержимого\n",
    "summary(dataFrame_var) #краткая статистика\n",
    "head(dataFrame_var) #верхние 5 наблюдений"
   ]
  },
  {
   "cell_type": "code",
   "execution_count": 52,
   "metadata": {},
   "outputs": [
    {
     "data": {
      "text/html": [
       "<ol class=list-inline>\n",
       "\t<li>'4'</li>\n",
       "\t<li>'5'</li>\n",
       "</ol>\n"
      ],
      "text/latex": [
       "\\begin{enumerate*}\n",
       "\\item '4'\n",
       "\\item '5'\n",
       "\\end{enumerate*}\n"
      ],
      "text/markdown": [
       "1. '4'\n",
       "2. '5'\n",
       "\n",
       "\n"
      ],
      "text/plain": [
       "[1] \"4\" \"5\""
      ]
     },
     "metadata": {},
     "output_type": "display_data"
    }
   ],
   "source": [
    "#Важную роль в использовании dataFrame играет факторная переменная\n",
    "dataFrame_var$Ball = factor(dataFrame_var$Ball) #вот так можно сделать переменную факторной\n",
    "#После этого конкретные записи в этом столбце не играют роли, важно только у каких переменных они одинаковые, а у каких разные\n",
    "levels(dataFrame_var$Ball)\n",
    "#Это уровни нашей переменной - ярлыки, привязанные к ее значениям"
   ]
  },
  {
   "cell_type": "code",
   "execution_count": 58,
   "metadata": {},
   "outputs": [
    {
     "data": {
      "text/html": [
       "<ol class=list-inline>\n",
       "\t<li>1</li>\n",
       "\t<li>2</li>\n",
       "\t<li>5</li>\n",
       "</ol>\n"
      ],
      "text/latex": [
       "\\begin{enumerate*}\n",
       "\\item 1\n",
       "\\item 2\n",
       "\\item 5\n",
       "\\end{enumerate*}\n"
      ],
      "text/markdown": [
       "1. 1\n",
       "2. 2\n",
       "3. 5\n",
       "\n",
       "\n"
      ],
      "text/plain": [
       "[1] 1 2 5"
      ]
     },
     "metadata": {},
     "output_type": "display_data"
    },
    {
     "data": {
      "text/html": [
       "<ol class=list-inline>\n",
       "\t<li>2</li>\n",
       "\t<li>4</li>\n",
       "</ol>\n"
      ],
      "text/latex": [
       "\\begin{enumerate*}\n",
       "\\item 2\n",
       "\\item 4\n",
       "\\end{enumerate*}\n"
      ],
      "text/markdown": [
       "1. 2\n",
       "2. 4\n",
       "\n",
       "\n"
      ],
      "text/plain": [
       "[1] 2 4"
      ]
     },
     "metadata": {},
     "output_type": "display_data"
    },
    {
     "data": {
      "text/html": [
       "Boris\n",
       "<details>\n",
       "\t<summary style=display:list-item;cursor:pointer>\n",
       "\t\t<strong>Levels</strong>:\n",
       "\t</summary>\n",
       "\t<ol class=list-inline>\n",
       "\t\t<li>'Boris'</li>\n",
       "\t\t<li>'Ivan'</li>\n",
       "\t\t<li>'Petr'</li>\n",
       "\t</ol>\n",
       "</details>"
      ],
      "text/latex": [
       "Boris\n",
       "\\emph{Levels}: \\begin{enumerate*}\n",
       "\\item 'Boris'\n",
       "\\item 'Ivan'\n",
       "\\item 'Petr'\n",
       "\\end{enumerate*}\n"
      ],
      "text/markdown": [
       "Boris\n",
       "**Levels**: 1. 'Boris'\n",
       "2. 'Ivan'\n",
       "3. 'Petr'\n",
       "\n",
       "\n"
      ],
      "text/plain": [
       "[1] Boris\n",
       "Levels: Boris Ivan Petr"
      ]
     },
     "metadata": {},
     "output_type": "display_data"
    }
   ],
   "source": [
    "#R заточен для работы с массивами данных, поэтому здесь весьма экономично записываются выборы строк или столбцов.\n",
    "#Если передать в качестве индексов вектора (или наборов столбцов или строк матрицы\\dataFrame) набор из TRUE, FALSE,\n",
    "#то останутся только значения с TRUE\n",
    "vec = c(1,2,3,4,5)\n",
    "bool = c(TRUE, TRUE, FALSE, FALSE, TRUE)\n",
    "vec[bool]\n",
    "#Это особенно удобно использовать так:\n",
    "vec[vec %% 2 == 0] #оставим только четные индексы\n",
    "#или так\n",
    "dataFrame_var$Man[dataFrame_var$Ball == 4] #таким образом можно быстро выуживать нужные наборы строк или столбцов"
   ]
  },
  {
   "cell_type": "markdown",
   "metadata": {},
   "source": [
    "## Функции"
   ]
  },
  {
   "cell_type": "code",
   "execution_count": 63,
   "metadata": {},
   "outputs": [
    {
     "data": {
      "text/html": [
       "25"
      ],
      "text/latex": [
       "25"
      ],
      "text/markdown": [
       "25"
      ],
      "text/plain": [
       "[1] 25"
      ]
     },
     "metadata": {},
     "output_type": "display_data"
    },
    {
     "data": {
      "text/html": [
       "25"
      ],
      "text/latex": [
       "25"
      ],
      "text/markdown": [
       "25"
      ],
      "text/plain": [
       "[1] 25"
      ]
     },
     "metadata": {},
     "output_type": "display_data"
    },
    {
     "data": {
      "text/html": [
       "<ol class=list-inline>\n",
       "\t<li>5</li>\n",
       "\t<li>10</li>\n",
       "\t<li>15</li>\n",
       "\t<li>20</li>\n",
       "\t<li>25</li>\n",
       "</ol>\n"
      ],
      "text/latex": [
       "\\begin{enumerate*}\n",
       "\\item 5\n",
       "\\item 10\n",
       "\\item 15\n",
       "\\item 20\n",
       "\\item 25\n",
       "\\end{enumerate*}\n"
      ],
      "text/markdown": [
       "1. 5\n",
       "2. 10\n",
       "3. 15\n",
       "4. 20\n",
       "5. 25\n",
       "\n",
       "\n"
      ],
      "text/plain": [
       "[1]  5 10 15 20 25"
      ]
     },
     "metadata": {},
     "output_type": "display_data"
    },
    {
     "data": {
      "text/html": [
       "<table>\n",
       "<tbody>\n",
       "\t<tr><td>1</td><td>2</td></tr>\n",
       "\t<tr><td>6</td><td>8</td></tr>\n",
       "</tbody>\n",
       "</table>\n"
      ],
      "text/latex": [
       "\\begin{tabular}{ll}\n",
       "\t 1 & 2\\\\\n",
       "\t 6 & 8\\\\\n",
       "\\end{tabular}\n"
      ],
      "text/markdown": [
       "\n",
       "| 1 | 2 |\n",
       "| 6 | 8 |\n",
       "\n"
      ],
      "text/plain": [
       "     [,1] [,2]\n",
       "[1,] 1    2   \n",
       "[2,] 6    8   "
      ]
     },
     "metadata": {},
     "output_type": "display_data"
    }
   ],
   "source": [
    "#синтаксис объявления функции в R\n",
    "prod = function(x, y)\n",
    "    {\n",
    "      return (x*y)  \n",
    "    }\n",
    "#Это не Python и отступы тут роли не играют, это я для наглядности.\n",
    "#А вот скобки играют - аргумент return необходимо взять в скобки\n",
    "prod(5, 5)\n",
    "\n",
    "#можно писать коротко\n",
    "prod = function(x,y) x*y\n",
    "prod(5, 5)\n",
    "\n",
    "#аргументы у функций не имеют типа, что поставите - с тем и будет работать\n",
    "prod(1:5, 5) #от вектора\n",
    "prod(matrix(1:4,2,2,byrow=TRUE), matrix(c(1,2,1,2),2,2)) #или двух матриц, лишь бы операция была легальная\n",
    "#только помните, что * не умножает матрицы как положено, а делает это поэлементно. Умножать матрицы нужно %*%"
   ]
  },
  {
   "cell_type": "markdown",
   "metadata": {},
   "source": [
    "## Условия и циклы"
   ]
  },
  {
   "cell_type": "code",
   "execution_count": 71,
   "metadata": {},
   "outputs": [
    {
     "name": "stdout",
     "output_type": "stream",
     "text": [
      "[1] \"5>3\"\n"
     ]
    }
   ],
   "source": [
    "#if устроен следующим образом ({} заменяют begin end).\n",
    "if (5 > 3)\n",
    "    {\n",
    "     print(\"5>3\")\n",
    "    } else {\n",
    "     print(\"3>5\")\n",
    "    }\n"
   ]
  },
  {
   "cell_type": "code",
   "execution_count": 76,
   "metadata": {},
   "outputs": [
    {
     "name": "stdout",
     "output_type": "stream",
     "text": [
      "[1] 50\n",
      "[1] 100\n"
     ]
    }
   ],
   "source": [
    "for (i in 1:100)\n",
    "    {\n",
    "        if (i %%50 == 0)\n",
    "            {\n",
    "                print(i)\n",
    "            }\n",
    "    }\n",
    "#Вместо 1:100 я мог использовать любой одномерный массив, необязательно числовой"
   ]
  },
  {
   "cell_type": "code",
   "execution_count": 75,
   "metadata": {},
   "outputs": [
    {
     "data": {
      "text/html": [
       "<ol class=list-inline>\n",
       "\t<li>'+'</li>\n",
       "\t<li>'+'</li>\n",
       "\t<li>'+'</li>\n",
       "\t<li>'+'</li>\n",
       "\t<li>'+'</li>\n",
       "</ol>\n"
      ],
      "text/latex": [
       "\\begin{enumerate*}\n",
       "\\item '+'\n",
       "\\item '+'\n",
       "\\item '+'\n",
       "\\item '+'\n",
       "\\item '+'\n",
       "\\end{enumerate*}\n"
      ],
      "text/markdown": [
       "1. '+'\n",
       "2. '+'\n",
       "3. '+'\n",
       "4. '+'\n",
       "5. '+'\n",
       "\n",
       "\n"
      ],
      "text/plain": [
       "[1] \"+\" \"+\" \"+\" \"+\" \"+\""
      ]
     },
     "metadata": {},
     "output_type": "display_data"
    }
   ],
   "source": [
    "vec = 0\n",
    "i = 0\n",
    "while (i < 5)\n",
    "    {\n",
    "        i = i + 1\n",
    "        vec[i] = \"+\"\n",
    "    }\n",
    "vec"
   ]
  },
  {
   "cell_type": "markdown",
   "metadata": {},
   "source": [
    "## Графика"
   ]
  },
  {
   "cell_type": "markdown",
   "metadata": {},
   "source": [
    "Вне простых свойств, которые мы описали, в R есть огромное количество конкурирующих пакетов, \n",
    "которые предлагают различные варианты решения похожих задач.\n",
    "Для графики есть также множество вариантов, из которых мы выделим 3.\n",
    "Первое - это встроенные в базовую надстройку R функции plot() и другие\n",
    "Второе - это более продвинутая графика, предложенная ggplot2. У нее есть большие возможности по настройке,\n",
    "но даже в самом простом варианте она заметно симпатичнее и удобнее стандартных вариантов.\n",
    "Третий популярный вариант - plotly. Это достаточно тяжелый с точки зрения памяти вариант, предлагающий достаточно широкий спектр, в частности, интерактивных графиков. \n",
    "Мы не будем много времени уделять указанным вариантам, ознакомимся с их базовым функционалом."
   ]
  },
  {
   "cell_type": "code",
   "execution_count": 5,
   "metadata": {},
   "outputs": [
    {
     "data": {
      "image/png": "[encoded data removed]"
     },
     "metadata": {},
     "output_type": "display_data"
    },
    {
     "data": {
      "image/png": "[encoded data removed]"
     },
     "metadata": {},
     "output_type": "display_data"
    }
   ],
   "source": [
    "options(jupyter.plot_mimetypes = 'image/png')\n",
    "x = rnorm(100) \n",
    "y = rnorm(100) + x #генерируем двумерную нормальную выборку\n",
    "plot(x, y, main = \"Диаграмма рассеяния для двумерного нормального распределения\")\n",
    "hist(y)"
   ]
  },
  {
   "cell_type": "code",
   "execution_count": 4,
   "metadata": {},
   "outputs": [
    {
     "name": "stdout",
     "output_type": "stream",
     "text": [
      "'data.frame':\t150 obs. of  5 variables:\n",
      " $ Sepal.Length: num  5.1 4.9 4.7 4.6 5 5.4 4.6 5 4.4 4.9 ...\n",
      " $ Sepal.Width : num  3.5 3 3.2 3.1 3.6 3.9 3.4 3.4 2.9 3.1 ...\n",
      " $ Petal.Length: num  1.4 1.4 1.3 1.5 1.4 1.7 1.4 1.5 1.4 1.5 ...\n",
      " $ Petal.Width : num  0.2 0.2 0.2 0.2 0.2 0.4 0.3 0.2 0.2 0.1 ...\n",
      " $ Species     : Factor w/ 3 levels \"setosa\",\"versicolor\",..: 1 1 1 1 1 1 1 1 1 1 ...\n"
     ]
    },
    {
     "data": {
      "text/html": [
       "<table>\n",
       "<thead><tr><th scope=col>Sepal.Length</th><th scope=col>Sepal.Width</th><th scope=col>Petal.Length</th><th scope=col>Petal.Width</th><th scope=col>Species</th></tr></thead>\n",
       "<tbody>\n",
       "\t<tr><td>5.1   </td><td>3.5   </td><td>1.4   </td><td>0.2   </td><td>setosa</td></tr>\n",
       "\t<tr><td>4.9   </td><td>3.0   </td><td>1.4   </td><td>0.2   </td><td>setosa</td></tr>\n",
       "\t<tr><td>4.7   </td><td>3.2   </td><td>1.3   </td><td>0.2   </td><td>setosa</td></tr>\n",
       "\t<tr><td>4.6   </td><td>3.1   </td><td>1.5   </td><td>0.2   </td><td>setosa</td></tr>\n",
       "\t<tr><td>5.0   </td><td>3.6   </td><td>1.4   </td><td>0.2   </td><td>setosa</td></tr>\n",
       "\t<tr><td>5.4   </td><td>3.9   </td><td>1.7   </td><td>0.4   </td><td>setosa</td></tr>\n",
       "</tbody>\n",
       "</table>\n"
      ],
      "text/latex": [
       "\\begin{tabular}{r|lllll}\n",
       " Sepal.Length & Sepal.Width & Petal.Length & Petal.Width & Species\\\\\n",
       "\\hline\n",
       "\t 5.1    & 3.5    & 1.4    & 0.2    & setosa\\\\\n",
       "\t 4.9    & 3.0    & 1.4    & 0.2    & setosa\\\\\n",
       "\t 4.7    & 3.2    & 1.3    & 0.2    & setosa\\\\\n",
       "\t 4.6    & 3.1    & 1.5    & 0.2    & setosa\\\\\n",
       "\t 5.0    & 3.6    & 1.4    & 0.2    & setosa\\\\\n",
       "\t 5.4    & 3.9    & 1.7    & 0.4    & setosa\\\\\n",
       "\\end{tabular}\n"
      ],
      "text/markdown": [
       "\n",
       "| Sepal.Length | Sepal.Width | Petal.Length | Petal.Width | Species |\n",
       "|---|---|---|---|---|\n",
       "| 5.1    | 3.5    | 1.4    | 0.2    | setosa |\n",
       "| 4.9    | 3.0    | 1.4    | 0.2    | setosa |\n",
       "| 4.7    | 3.2    | 1.3    | 0.2    | setosa |\n",
       "| 4.6    | 3.1    | 1.5    | 0.2    | setosa |\n",
       "| 5.0    | 3.6    | 1.4    | 0.2    | setosa |\n",
       "| 5.4    | 3.9    | 1.7    | 0.4    | setosa |\n",
       "\n"
      ],
      "text/plain": [
       "  Sepal.Length Sepal.Width Petal.Length Petal.Width Species\n",
       "1 5.1          3.5         1.4          0.2         setosa \n",
       "2 4.9          3.0         1.4          0.2         setosa \n",
       "3 4.7          3.2         1.3          0.2         setosa \n",
       "4 4.6          3.1         1.5          0.2         setosa \n",
       "5 5.0          3.6         1.4          0.2         setosa \n",
       "6 5.4          3.9         1.7          0.4         setosa "
      ]
     },
     "metadata": {},
     "output_type": "display_data"
    }
   ],
   "source": [
    "#Возьмем для построения графиков известный массив данных о цветках iris\n",
    "#В R есть много пакетов с данными, в частности, пакет dataset по умолчанию загружается в память, поэтому я могу обращаться\n",
    "#массивам оттуда прямо по имени (в данном случае iris)\n",
    "str(iris)\n",
    "head(iris) \n",
    "#Это 150 цветков трех видов, для которых приведены размеры чашелистика и лепестка"
   ]
  },
  {
   "cell_type": "code",
   "execution_count": 9,
   "metadata": {},
   "outputs": [
    {
     "data": {
      "image/png": "[encoded data removed]"
     },
     "metadata": {},
     "output_type": "display_data"
    }
   ],
   "source": [
    "#построим зависимость параметров чашелистика, разделив их по цветам\n",
    "library(ggplot2) #если у вас нет такого пакета, то сперва поставьте его путем install.packages(\"ggplot2\")\n",
    "qplot(data = iris, x = Sepal.Length, y = Sepal.Width, geom = \"point\", color = Species)\n",
    "#data - это dataFrame из которого берутся данные (можно и не указывать этот параметр, а прямо задавать векторы x, y)\n",
    "#теперь x,y можно просто задать названиями столбцов, которые брать из data\n",
    "#geom - это геометрия графика, в данном случае точечный\n",
    "#color тут не просто цвет, а факторная переменная из цветов, из-за этого у каждой точки цвет определяется отдельно"
   ]
  },
  {
   "cell_type": "code",
   "execution_count": 28,
   "metadata": {},
   "outputs": [
    {
     "data": {
      "image/png": "[encoded data removed]"
     },
     "metadata": {},
     "output_type": "display_data"
    },
    {
     "data": {
      "image/png": "[encoded data removed]"
     },
     "metadata": {},
     "output_type": "display_data"
    }
   ],
   "source": [
    "qplot(data = iris, geom = \"density\", x = Sepal.Length, fill = Species, alpha = I(0.5)) #ядерная оценка плотностей\n",
    "#параметр alpha дает прозрачность, благодаря чему плотности не перекрывают друг друга\n",
    "qplot(data = iris, geom = \"violin\", x = Species, y = Sepal.Length, fill = Species, alpha = I(0.5)) #скрипичный график"
   ]
  },
  {
   "cell_type": "code",
   "execution_count": 38,
   "metadata": {},
   "outputs": [
    {
     "name": "stderr",
     "output_type": "stream",
     "text": [
      "`stat_bin()` using `bins = 30`. Pick better value with `binwidth`.\n"
     ]
    },
    {
     "data": {
      "image/png": "[encoded data removed]"
     },
     "metadata": {},
     "output_type": "display_data"
    }
   ],
   "source": [
    "#ggplot позволяет довольно удобно комбинировать графики, например, так:\n",
    "ggplot(iris, aes(x=Sepal.Width, fill=Species)) + geom_histogram(aes(y=..density..), position = \"identity\", alpha = I(0.5)) + geom_density(alpha = I(0.5), size = 1)\n",
    "#код страшный, но суть такая: ggplot описывает общие данные и цвет, затем мы строим гистограмму (density делает ее нормированной под интеграл 1),\n",
    "#position = \"identity\" делает из stacked гистограммы (когда столбики ставят друг на друга) гистограммы, наложенные друг на друга, \n",
    "#сверху накладывается density plot, size = 1 делает его линии потолще"
   ]
  },
  {
   "cell_type": "code",
   "execution_count": 41,
   "metadata": {},
   "outputs": [
    {
     "data": {
      "image/png": "[encoded data removed]"
     },
     "metadata": {},
     "output_type": "display_data"
    }
   ],
   "source": [
    "qplot(data = iris, x = Species, y = Sepal.Width, geom = \"boxplot\", fill = Species) #ящики с усами"
   ]
  }
 ],
 "metadata": {
  "kernelspec": {
   "display_name": "R",
   "language": "R",
   "name": "ir"
  },
  "language_info": {
   "codemirror_mode": "r",
   "file_extension": ".r",
   "mimetype": "text/x-r-source",
   "name": "R",
   "pygments_lexer": "r",
   "version": "4.3.1"
  }
 },
 "nbformat": 4,
 "nbformat_minor": 2
}
