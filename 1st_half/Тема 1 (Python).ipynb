{
 "cells": [
  {
   "cell_type": "code",
   "execution_count": 7,
   "id": "21f4cd05",
   "metadata": {},
   "outputs": [],
   "source": [
    "import numpy as np\n",
    "import statistics as stat\n",
    "import math\n",
    "import matplotlib.pyplot as plt\n",
    "import pandas as pd\n",
    "s=np.random.normal(0,2,100)"
   ]
  },
  {
   "cell_type": "markdown",
   "id": "094e12c8",
   "metadata": {},
   "source": [
    "1. Найти медиану, выборочное среднее, выборочную дисперсию."
   ]
  },
  {
   "cell_type": "code",
   "execution_count": 2,
   "id": "a4c5eada",
   "metadata": {
    "scrolled": true
   },
   "outputs": [
    {
     "name": "stdout",
     "output_type": "stream",
     "text": [
      "-0.1676122374524449\n",
      "-0.3156430676517093\n",
      "3.5489046827639874\n"
     ]
    }
   ],
   "source": [
    "print(stat.median(s))\n",
    "print(stat.mean(s))\n",
    "print(stat.variance(s))"
   ]
  },
  {
   "cell_type": "markdown",
   "id": "18c4dedd",
   "metadata": {},
   "source": [
    "2. Найти sin X (с чертой)"
   ]
  },
  {
   "cell_type": "code",
   "execution_count": 3,
   "id": "286f4912",
   "metadata": {},
   "outputs": [
    {
     "name": "stdout",
     "output_type": "stream",
     "text": [
      "-0.03423068411477851\n"
     ]
    }
   ],
   "source": [
    "sine=[math.sin(a) for a in s]\n",
    "print(stat.mean(sine))"
   ]
  },
  {
   "cell_type": "markdown",
   "id": "a91cd743",
   "metadata": {},
   "source": [
    "3. Извлечь из этой выборки новую выборку, содержащую только положительные значения."
   ]
  },
  {
   "cell_type": "code",
   "execution_count": 4,
   "id": "785381a7",
   "metadata": {
    "scrolled": true
   },
   "outputs": [
    {
     "name": "stdout",
     "output_type": "stream",
     "text": [
      "[2.6463416574478655, 3.993205674771543, 1.4055970399342987, 0.41885750100239305, 1.8168127732572923, 1.9733434921485025, 1.2023367517618015, 2.046045782052626, 1.2996024682845535, 1.6985730968565638, 0.3292157267578054, 2.386886905219665, 1.7700907419634277, 2.267736860551632, 1.2712193111462549, 1.4500116997102181, 0.8251371500281877, 1.2248166029072964, 0.6778209224288523, 0.33739161993211936, 3.9694473949901807, 0.7227459911810525, 0.2690915635182761, 0.5594307582712734, 0.23835389952233593, 2.410975357091666, 0.16208585226240893, 0.39704590111182786, 0.9864786739796318, 0.12499394762279235, 4.2395680241791425, 0.5100661021608479, 0.4759569482511176, 1.63855640649332, 0.13730966738305223, 2.1812805027811795, 2.04422907773067, 1.5516576747829165, 1.4388219596635523, 0.7888672789771513, 1.377846977917654, 0.06203083571269545, 0.6041029712994378]\n"
     ]
    }
   ],
   "source": [
    "s_pos=[a for a in s if a>0]\n",
    "print(s_pos)"
   ]
  },
  {
   "cell_type": "markdown",
   "id": "58ef00c5",
   "metadata": {},
   "source": [
    "4. Пусть Sk = X1 + · · · + Xk. Найти минимальное k такое, что Sk > 3. Если такого нет, вывести n + 1."
   ]
  },
  {
   "cell_type": "code",
   "execution_count": 6,
   "id": "4784668d",
   "metadata": {
    "scrolled": true
   },
   "outputs": [
    {
     "name": "stdout",
     "output_type": "stream",
     "text": [
      "3\n"
     ]
    }
   ],
   "source": [
    "sums=[]\n",
    "sums.append(s[0])\n",
    "for i in range(1,100):\n",
    "    sums.append(sums[i-1]+s[i])\n",
    "    if sums[i]>3:\n",
    "        break\n",
    "if len(sums)<100:\n",
    "    print(len(sums))\n",
    "else:\n",
    "    print(101)"
   ]
  },
  {
   "cell_type": "markdown",
   "id": "5bab6b10",
   "metadata": {},
   "source": [
    "5. * Построить гистограмму, построить оценку плотности и теоретическую плотность на одном графике (не забывайте подписывать графики)."
   ]
  },
  {
   "cell_type": "code",
   "execution_count": 19,
   "id": "f9dcc2a8",
   "metadata": {
    "scrolled": false
   },
   "outputs": [
    {
     "data": {
      "image/png": "[encoded data removed]",
      "text/plain": [
       "<Figure size 640x480 with 1 Axes>"
      ]
     },
     "metadata": {},
     "output_type": "display_data"
    }
   ],
   "source": [
    "plt.hist(s)\n",
    "s1=pd.Series(s[0:100])\n",
    "s1.plot.density()\n",
    "x=np.linspace(-10,10,1000)\n",
    "xlim=\n",
    "plt.plot(1/(2*math.pi)**(1/2)/2*math.e**(-x*x/(2*4)))\n",
    "plt.show()"
   ]
  },
  {
   "cell_type": "code",
   "execution_count": null,
   "id": "480ca59e",
   "metadata": {},
   "outputs": [],
   "source": []
  }
 ],
 "metadata": {
  "kernelspec": {
   "display_name": "Python 3 (ipykernel)",
   "language": "python",
   "name": "python3"
  },
  "language_info": {
   "codemirror_mode": {
    "name": "ipython",
    "version": 3
   },
   "file_extension": ".py",
   "mimetype": "text/x-python",
   "name": "python",
   "nbconvert_exporter": "python",
   "pygments_lexer": "ipython3",
   "version": "3.11.4"
  }
 },
 "nbformat": 4,
 "nbformat_minor": 5
}
