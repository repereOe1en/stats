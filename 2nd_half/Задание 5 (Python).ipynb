{
 "cells": [
  {
   "cell_type": "code",
   "execution_count": 2,
   "outputs": [],
   "source": [
    "import numpy as np\n",
    "import matplotlib.pyplot as plt\n",
    "import scipy.stats as st\n",
    "import seaborn as sns\n",
    "import polars as pl\n",
    "import pprint"
   ],
   "metadata": {
    "collapsed": false,
    "ExecuteTime": {
     "end_time": "2024-05-29T08:42:46.567087Z",
     "start_time": "2024-05-29T08:42:45.043949Z"
    }
   },
   "id": "37487fe31739dba5"
  },
  {
   "cell_type": "markdown",
   "source": [
    "1. Дана м.в.п. однородной цепи Маркова"
   ],
   "metadata": {
    "collapsed": false
   },
   "id": "9f0dc01d46216eac"
  },
  {
   "cell_type": "code",
   "execution_count": 4,
   "outputs": [],
   "source": [
    "P1=[[0.25,0.75,0,0],\n",
    "\t\t\t  [0.5,0,0.5,0],\t\n",
    "\t\t\t  [0,0.5,0,0.5],\n",
    "\t\t\t  [0,0,0.75,0.25]]\n",
    "\n",
    "P2=[[2/9,1/3,0,4/9],\n",
    "\t\t\t  [4/9,1/9,0,4/9],\n",
    "\t\t\t  [2/9,2/9,2/9,1/3],\n",
    "\t\t\t  [2/9,2/9,4/9,1/9]]\n",
    "\n",
    "P3=[[0,0.5,0,0.5],\n",
    "\t\t\t  [1/3,0,2/3,0],\n",
    "\t\t\t  [0,0.25,0,0.75],\n",
    "\t\t\t  [0.25,0,0.75,0]]\n",
    "'''\n",
    "эта матричка последняя мб переписана в виде \n",
    "0 0 0.5 0.5\n",
    "0 0 0.25 0.75\n",
    "0.33 0.67 0 0\n",
    "0.25 0.75 0 0\n",
    "для этого надо свопнуть второе и третье состояние местами\n",
    "'''\n",
    "None"
   ],
   "metadata": {
    "collapsed": false,
    "ExecuteTime": {
     "end_time": "2024-05-21T08:41:42.351993Z",
     "start_time": "2024-05-21T08:41:42.347858Z"
    }
   },
   "id": "c57b5a417d891da6"
  },
  {
   "cell_type": "markdown",
   "source": [
    "Найти стационарное распределение."
   ],
   "metadata": {
    "collapsed": false
   },
   "id": "eabe3f57214a47e4"
  },
  {
   "cell_type": "code",
   "execution_count": 5,
   "outputs": [],
   "source": [
    "def transformation(A):\n",
    "\tA=A.T\n",
    "\tn=int(A.size**0.5)\n",
    "\tfor i in range(n):\n",
    "\t\tfor j in range(n):\n",
    "\t\t\tif i==j:\n",
    "\t\t\t\tA[i,j]-=1\n",
    "\tC=A[0:n,1:n]\n",
    "\tb=-A[0:n,0]\n",
    "\tb=b.T\n",
    "\tb=np.array(b)\n",
    "\treturn C,b,n\n",
    "\n",
    "def grid_search(A,b,n):\n",
    "\tfor i in range(n):\n",
    "\t\tC=np.matrix(np.delete(A,i,0))\n",
    "\t\td=np.array(np.delete(b,i))\n",
    "\t\ttry:\n",
    "\t\t\tX=np.linalg.solve(C,d)\n",
    "\t\t\tbreak\n",
    "\t\texcept np.linalg.LinAlgError:\n",
    "\t\t\tcontinue\n",
    "\tX=np.concatenate((np.array([1]),X))\n",
    "\treturn X/X.sum()"
   ],
   "metadata": {
    "collapsed": false,
    "ExecuteTime": {
     "end_time": "2024-05-29T08:43:00.060538Z",
     "start_time": "2024-05-29T08:43:00.046827Z"
    }
   },
   "id": "d1172fc0073c6170"
  },
  {
   "cell_type": "code",
   "execution_count": 6,
   "outputs": [
    {
     "name": "stdout",
     "output_type": "stream",
     "text": [
      "[0.2 0.3 0.3 0.2]\n",
      "[0.2 0.3 0.3 0.2]\n",
      "[0.2 0.3 0.3 0.2]\n",
      "[0.2 0.3 0.3 0.2]\n",
      "[0.2 0.3 0.3 0.2]\n",
      "[0.2 0.3 0.3 0.2]\n",
      "\n",
      "\n",
      "[0.27272727 0.22727273 0.18181818 0.31818182]\n",
      "[0.27272727 0.22727273 0.18181818 0.31818182]\n",
      "[0.27272727 0.22727273 0.18181818 0.31818182]\n",
      "[0.27272727 0.22727273 0.18181818 0.31818182]\n",
      "[0.27272727 0.22727273 0.18181818 0.31818182]\n",
      "[0.27272727 0.22727273 0.18181818 0.31818182]\n",
      "\n",
      "\n",
      "[0.13829787 0.15957447 0.36170213 0.34042553]\n",
      "[0.13829787 0.15957447 0.36170213 0.34042553]\n",
      "[0.27659574 0.         0.72340426 0.        ]\n",
      "[0.27659574 0.         0.72340426 0.        ]\n",
      "[0.27659574 0.         0.72340426 0.        ]\n",
      "[0.27659574 0.         0.72340426 0.        ]\n"
     ]
    }
   ],
   "source": [
    "for i in [1,5,10,20,30,50]:\n",
    "\tA=np.matrix(P1)\n",
    "\tA=np.linalg.matrix_power(A,i)\n",
    "\tA,b,n=transformation(A)\n",
    "\tprint(grid_search(A,b,n))\n",
    "\t\n",
    "print('\\n')\n",
    "\n",
    "for i in [1,5,10,20,30,50]:\n",
    "\tA = np.matrix(P2)\n",
    "\tA=np.linalg.matrix_power(A,i)\n",
    "\tA, b, n = transformation(A)\n",
    "\tprint(grid_search(A, b, n))\n",
    "\n",
    "print('\\n')\n",
    "'''\n",
    "for i in [1,5,10,20,30,50]:#задание-\"троллинг\", как высказался бы Андрей Леонидович Канунников - цепь-то периодическая\n",
    "\tA = np.matrix(P3)\n",
    "\tA=np.linalg.matrix_power(A,i)\n",
    "\tA, b, n = transformation(A)\n",
    "\tprint(grid_search(A, b, n))\n",
    "'''\n",
    "None"
   ],
   "metadata": {
    "collapsed": false,
    "ExecuteTime": {
     "end_time": "2024-05-21T08:41:43.932810Z",
     "start_time": "2024-05-21T08:41:43.917013Z"
    }
   },
   "id": "da1b875287fb0e8d"
  },
  {
   "cell_type": "markdown",
   "source": [
    "2. Пусть ξn – ЦМ c м.в.п. Найти стационарное распределение. Построить траекторию цепи. Сходится ли она п.н.? Найти долю посещений каждого из состояний за большое число n шагов. Сходится ли она п.н.? Моделируем 100 траекторий и для каждой вычтем из доли посещения первого состояния соответствующую стационарную вероянтость, умножим результат на √n. Построить гистограмму полученного распределения."
   ],
   "metadata": {
    "collapsed": false
   },
   "id": "cfe6350d937c1844"
  },
  {
   "cell_type": "code",
   "execution_count": 5,
   "outputs": [],
   "source": [
    "P=np.matrix([[1/3,1/3,1/3],\n",
    "\t\t\t [3/4,0,1/4],\n",
    "\t\t\t [1/2,1/6,1/3]])"
   ],
   "metadata": {
    "collapsed": false,
    "ExecuteTime": {
     "end_time": "2024-04-09T07:47:28.741724Z",
     "start_time": "2024-04-09T07:47:28.737152Z"
    }
   },
   "id": "f8eb025517bcfdc4"
  },
  {
   "cell_type": "code",
   "execution_count": 6,
   "outputs": [
    {
     "name": "stdout",
     "output_type": "stream",
     "text": [
      "[0.47368421 0.21052632 0.31578947]\n"
     ]
    }
   ],
   "source": [
    "A = np.matrix(P)\n",
    "A, b, n = transformation(A)\n",
    "pi=grid_search(A, b, n)\n",
    "print(pi)"
   ],
   "metadata": {
    "collapsed": false,
    "ExecuteTime": {
     "end_time": "2024-04-09T07:47:28.771744Z",
     "start_time": "2024-04-09T07:47:28.740286Z"
    }
   },
   "id": "ae11cf2452d1b466"
  },
  {
   "cell_type": "code",
   "execution_count": 7,
   "outputs": [
    {
     "name": "stdout",
     "output_type": "stream",
     "text": [
      "[0.466 0.477 0.489 0.457 0.483 0.477 0.461 0.479 0.48  0.47  0.462 0.471\n",
      " 0.477 0.496 0.473 0.469 0.48  0.479 0.463 0.464 0.464 0.486 0.485 0.468\n",
      " 0.483 0.468 0.473 0.472 0.457 0.47  0.477 0.463 0.478 0.473 0.478 0.452\n",
      " 0.472 0.51  0.458 0.474 0.444 0.48  0.449 0.458 0.469 0.474 0.472 0.508\n",
      " 0.469 0.463 0.455 0.474 0.459 0.472 0.474 0.481 0.481 0.455 0.478 0.488\n",
      " 0.483 0.478 0.478 0.484 0.463 0.5   0.484 0.477 0.485 0.477 0.489 0.478\n",
      " 0.462 0.469 0.468 0.469 0.484 0.483 0.47  0.509 0.455 0.472 0.463 0.472\n",
      " 0.468 0.468 0.489 0.463 0.513 0.468 0.491 0.485 0.47  0.473 0.491 0.474\n",
      " 0.437 0.476 0.456 0.449]\n"
     ]
    },
    {
     "data": {
      "text/plain": "<Figure size 640x480 with 1 Axes>",
      "image/png": "[encoded data removed]"
     },
     "metadata": {},
     "output_type": "display_data"
    }
   ],
   "source": [
    "n=1000\n",
    "p=pi #можно чето другое будет вбить\n",
    "results=np.zeros(100)\n",
    "for i in range(100):\n",
    "\tX=np.zeros(n)\n",
    "\tc=np.random.multinomial(1,p)\n",
    "\tfor k in range(3):\n",
    "\t\tif c[k]==1:\n",
    "\t\t\tX[0]=k\n",
    "\tfor j in range(1,n):\n",
    "\t\tc=np.random.multinomial(1,P[int(X[j-1]),].tolist()[0])\n",
    "\t\tfor k in range(3):\n",
    "\t\t\tif c[k]==1:\n",
    "\t\t\t\tX[j]=k\n",
    "\tfor j in range(n):\n",
    "\t\tif X[j]==0:\n",
    "\t\t\tresults[i]+=1\n",
    "results/=n\n",
    "print(results)\n",
    "results-=pi[0]\n",
    "results*=n**0.5\n",
    "plt.hist(results)\n",
    "None"
   ],
   "metadata": {
    "collapsed": false,
    "ExecuteTime": {
     "end_time": "2024-04-09T07:47:29.246035Z",
     "start_time": "2024-04-09T07:47:28.747727Z"
    }
   },
   "id": "eb9b27008fde489"
  },
  {
   "cell_type": "markdown",
   "source": [
    "3. В файле MarkovChain.txt находится м.в.п. цепи, не имеющей несущественных состояний. Написать программу, которая а) разделит состояния на неразложимые классы, б)* каждый из классов на подклассы состояний в соответствии с периодичностью цепи."
   ],
   "metadata": {
    "collapsed": false
   },
   "id": "31c3fd0137fbad3d"
  },
  {
   "cell_type": "code",
   "execution_count": 3,
   "outputs": [
    {
     "data": {
      "text/plain": "shape: (50, 50)\n┌─────┬─────┬─────┬─────┬───┬─────┬──────────┬─────┬──────────┐\n│ 0   ┆ 1   ┆ 2   ┆ 3   ┆ … ┆ 46  ┆ 47       ┆ 48  ┆ 49       │\n│ --- ┆ --- ┆ --- ┆ --- ┆   ┆ --- ┆ ---      ┆ --- ┆ ---      │\n│ i64 ┆ f64 ┆ f64 ┆ i64 ┆   ┆ f64 ┆ f64      ┆ i64 ┆ f64      │\n╞═════╪═════╪═════╪═════╪═══╪═════╪══════════╪═════╪══════════╡\n│ 0   ┆ 0.0 ┆ 0.0 ┆ 0   ┆ … ┆ 0.0 ┆ 0.0      ┆ 0   ┆ 0.0      │\n│ 0   ┆ 0.0 ┆ 0.0 ┆ 0   ┆ … ┆ 0.0 ┆ 0.0      ┆ 0   ┆ 0.0      │\n│ 0   ┆ 0.0 ┆ 0.0 ┆ 0   ┆ … ┆ 0.0 ┆ 0.111111 ┆ 0   ┆ 0.111111 │\n│ 0   ┆ 0.0 ┆ 0.0 ┆ 0   ┆ … ┆ 0.0 ┆ 0.0      ┆ 0   ┆ 0.0      │\n│ 0   ┆ 0.0 ┆ 0.0 ┆ 0   ┆ … ┆ 0.5 ┆ 0.0      ┆ 0   ┆ 0.0      │\n│ …   ┆ …   ┆ …   ┆ …   ┆ … ┆ …   ┆ …        ┆ …   ┆ …        │\n│ 0   ┆ 0.0 ┆ 0.0 ┆ 0   ┆ … ┆ 0.0 ┆ 0.0      ┆ 0   ┆ 0.0      │\n│ 0   ┆ 0.0 ┆ 0.0 ┆ 0   ┆ … ┆ 0.0 ┆ 0.0      ┆ 0   ┆ 0.0      │\n│ 0   ┆ 0.2 ┆ 0.0 ┆ 0   ┆ … ┆ 0.0 ┆ 0.0      ┆ 0   ┆ 0.0      │\n│ 0   ┆ 0.0 ┆ 0.0 ┆ 1   ┆ … ┆ 0.0 ┆ 0.0      ┆ 0   ┆ 0.0      │\n│ 0   ┆ 0.2 ┆ 0.0 ┆ 0   ┆ … ┆ 0.0 ┆ 0.0      ┆ 0   ┆ 0.0      │\n└─────┴─────┴─────┴─────┴───┴─────┴──────────┴─────┴──────────┘",
      "text/html": "<div><style>\n.dataframe > thead > tr,\n.dataframe > tbody > tr {\n  text-align: right;\n  white-space: pre-wrap;\n}\n</style>\n<small>shape: (50, 50)</small><table border=\"1\" class=\"dataframe\"><thead><tr><th>0</th><th>1</th><th>2</th><th>3</th><th>4</th><th>5</th><th>6</th><th>7</th><th>8</th><th>9</th><th>10</th><th>11</th><th>12</th><th>13</th><th>14</th><th>15</th><th>16</th><th>17</th><th>18</th><th>19</th><th>20</th><th>21</th><th>22</th><th>23</th><th>24</th><th>25</th><th>26</th><th>27</th><th>28</th><th>29</th><th>30</th><th>31</th><th>32</th><th>33</th><th>34</th><th>35</th><th>36</th><th>37</th><th>38</th><th>39</th><th>40</th><th>41</th><th>42</th><th>43</th><th>44</th><th>45</th><th>46</th><th>47</th><th>48</th><th>49</th></tr><tr><td>i64</td><td>f64</td><td>f64</td><td>i64</td><td>i64</td><td>f64</td><td>f64</td><td>f64</td><td>f64</td><td>f64</td><td>f64</td><td>f64</td><td>f64</td><td>f64</td><td>f64</td><td>f64</td><td>f64</td><td>i64</td><td>f64</td><td>f64</td><td>f64</td><td>f64</td><td>f64</td><td>f64</td><td>f64</td><td>f64</td><td>f64</td><td>f64</td><td>f64</td><td>f64</td><td>f64</td><td>i64</td><td>f64</td><td>f64</td><td>f64</td><td>f64</td><td>f64</td><td>i64</td><td>f64</td><td>i64</td><td>f64</td><td>f64</td><td>f64</td><td>f64</td><td>f64</td><td>f64</td><td>f64</td><td>f64</td><td>i64</td><td>f64</td></tr></thead><tbody><tr><td>0</td><td>0.0</td><td>0.0</td><td>0</td><td>0</td><td>0.0</td><td>0.0</td><td>0.0</td><td>0.0</td><td>0.0</td><td>0.0</td><td>0.0</td><td>0.0</td><td>0.0</td><td>0.0</td><td>0.0</td><td>0.0</td><td>0</td><td>0.0</td><td>0.0</td><td>0.0</td><td>0.0</td><td>0.0</td><td>0.0</td><td>0.0</td><td>0.0</td><td>0.0</td><td>0.0</td><td>0.0</td><td>0.0</td><td>0.0</td><td>0</td><td>0.0</td><td>0.0</td><td>0.0</td><td>0.0</td><td>0.0</td><td>1</td><td>0.0</td><td>0</td><td>0.0</td><td>0.0</td><td>0.0</td><td>0.0</td><td>0.0</td><td>0.0</td><td>0.0</td><td>0.0</td><td>0</td><td>0.0</td></tr><tr><td>0</td><td>0.0</td><td>0.0</td><td>0</td><td>0</td><td>0.166667</td><td>0.0</td><td>0.0</td><td>0.0</td><td>0.166667</td><td>0.0</td><td>0.166667</td><td>0.0</td><td>0.0</td><td>0.0</td><td>0.0</td><td>0.0</td><td>0</td><td>0.0</td><td>0.0</td><td>0.166667</td><td>0.0</td><td>0.0</td><td>0.0</td><td>0.0</td><td>0.166667</td><td>0.0</td><td>0.0</td><td>0.0</td><td>0.0</td><td>0.0</td><td>0</td><td>0.0</td><td>0.0</td><td>0.0</td><td>0.0</td><td>0.0</td><td>0</td><td>0.0</td><td>0</td><td>0.0</td><td>0.0</td><td>0.0</td><td>0.166667</td><td>0.0</td><td>0.0</td><td>0.0</td><td>0.0</td><td>0</td><td>0.0</td></tr><tr><td>0</td><td>0.0</td><td>0.0</td><td>0</td><td>0</td><td>0.0</td><td>0.0</td><td>0.0</td><td>0.0</td><td>0.0</td><td>0.111111</td><td>0.0</td><td>0.111111</td><td>0.0</td><td>0.0</td><td>0.111111</td><td>0.0</td><td>0</td><td>0.0</td><td>0.0</td><td>0.0</td><td>0.111111</td><td>0.0</td><td>0.0</td><td>0.0</td><td>0.0</td><td>0.0</td><td>0.0</td><td>0.0</td><td>0.111111</td><td>0.0</td><td>0</td><td>0.0</td><td>0.0</td><td>0.0</td><td>0.111111</td><td>0.0</td><td>0</td><td>0.0</td><td>0</td><td>0.0</td><td>0.0</td><td>0.0</td><td>0.0</td><td>0.111111</td><td>0.0</td><td>0.0</td><td>0.111111</td><td>0</td><td>0.111111</td></tr><tr><td>0</td><td>0.0</td><td>0.0</td><td>0</td><td>0</td><td>0.0</td><td>0.0</td><td>0.0</td><td>0.0</td><td>0.0</td><td>0.0</td><td>0.0</td><td>0.0</td><td>0.0</td><td>0.0</td><td>0.0</td><td>0.0</td><td>1</td><td>0.0</td><td>0.0</td><td>0.0</td><td>0.0</td><td>0.0</td><td>0.0</td><td>0.0</td><td>0.0</td><td>0.0</td><td>0.0</td><td>0.0</td><td>0.0</td><td>0.0</td><td>0</td><td>0.0</td><td>0.0</td><td>0.0</td><td>0.0</td><td>0.0</td><td>0</td><td>0.0</td><td>0</td><td>0.0</td><td>0.0</td><td>0.0</td><td>0.0</td><td>0.0</td><td>0.0</td><td>0.0</td><td>0.0</td><td>0</td><td>0.0</td></tr><tr><td>0</td><td>0.0</td><td>0.0</td><td>0</td><td>0</td><td>0.0</td><td>0.0</td><td>0.0</td><td>0.0</td><td>0.0</td><td>0.0</td><td>0.0</td><td>0.0</td><td>0.0</td><td>0.0</td><td>0.0</td><td>0.5</td><td>0</td><td>0.0</td><td>0.0</td><td>0.0</td><td>0.0</td><td>0.0</td><td>0.0</td><td>0.0</td><td>0.0</td><td>0.0</td><td>0.0</td><td>0.0</td><td>0.0</td><td>0.0</td><td>0</td><td>0.0</td><td>0.0</td><td>0.0</td><td>0.0</td><td>0.0</td><td>0</td><td>0.0</td><td>0</td><td>0.0</td><td>0.0</td><td>0.0</td><td>0.0</td><td>0.0</td><td>0.0</td><td>0.5</td><td>0.0</td><td>0</td><td>0.0</td></tr><tr><td>&hellip;</td><td>&hellip;</td><td>&hellip;</td><td>&hellip;</td><td>&hellip;</td><td>&hellip;</td><td>&hellip;</td><td>&hellip;</td><td>&hellip;</td><td>&hellip;</td><td>&hellip;</td><td>&hellip;</td><td>&hellip;</td><td>&hellip;</td><td>&hellip;</td><td>&hellip;</td><td>&hellip;</td><td>&hellip;</td><td>&hellip;</td><td>&hellip;</td><td>&hellip;</td><td>&hellip;</td><td>&hellip;</td><td>&hellip;</td><td>&hellip;</td><td>&hellip;</td><td>&hellip;</td><td>&hellip;</td><td>&hellip;</td><td>&hellip;</td><td>&hellip;</td><td>&hellip;</td><td>&hellip;</td><td>&hellip;</td><td>&hellip;</td><td>&hellip;</td><td>&hellip;</td><td>&hellip;</td><td>&hellip;</td><td>&hellip;</td><td>&hellip;</td><td>&hellip;</td><td>&hellip;</td><td>&hellip;</td><td>&hellip;</td><td>&hellip;</td><td>&hellip;</td><td>&hellip;</td><td>&hellip;</td><td>&hellip;</td></tr><tr><td>0</td><td>0.0</td><td>0.0</td><td>0</td><td>0</td><td>0.0</td><td>0.25</td><td>0.0</td><td>0.25</td><td>0.0</td><td>0.0</td><td>0.0</td><td>0.0</td><td>0.0</td><td>0.0</td><td>0.0</td><td>0.0</td><td>0</td><td>0.0</td><td>0.0</td><td>0.0</td><td>0.0</td><td>0.0</td><td>0.25</td><td>0.0</td><td>0.0</td><td>0.0</td><td>0.0</td><td>0.0</td><td>0.0</td><td>0.0</td><td>0</td><td>0.0</td><td>0.0</td><td>0.0</td><td>0.0</td><td>0.0</td><td>0</td><td>0.25</td><td>0</td><td>0.0</td><td>0.0</td><td>0.0</td><td>0.0</td><td>0.0</td><td>0.0</td><td>0.0</td><td>0.0</td><td>0</td><td>0.0</td></tr><tr><td>0</td><td>0.0</td><td>0.0</td><td>0</td><td>0</td><td>0.0</td><td>0.0</td><td>0.0</td><td>0.0</td><td>0.0</td><td>0.0</td><td>0.0</td><td>0.0</td><td>0.0</td><td>0.0</td><td>0.0</td><td>0.0</td><td>0</td><td>0.166667</td><td>0.0</td><td>0.0</td><td>0.0</td><td>0.333333</td><td>0.0</td><td>0.0</td><td>0.0</td><td>0.0</td><td>0.0</td><td>0.0</td><td>0.0</td><td>0.0</td><td>0</td><td>0.0</td><td>0.0</td><td>0.0</td><td>0.0</td><td>0.0</td><td>0</td><td>0.0</td><td>0</td><td>0.0</td><td>0.5</td><td>0.0</td><td>0.0</td><td>0.0</td><td>0.0</td><td>0.0</td><td>0.0</td><td>0</td><td>0.0</td></tr><tr><td>0</td><td>0.2</td><td>0.0</td><td>0</td><td>0</td><td>0.0</td><td>0.0</td><td>0.0</td><td>0.0</td><td>0.0</td><td>0.0</td><td>0.0</td><td>0.0</td><td>0.0</td><td>0.2</td><td>0.0</td><td>0.0</td><td>0</td><td>0.0</td><td>0.0</td><td>0.0</td><td>0.0</td><td>0.0</td><td>0.0</td><td>0.0</td><td>0.0</td><td>0.2</td><td>0.0</td><td>0.2</td><td>0.0</td><td>0.2</td><td>0</td><td>0.0</td><td>0.0</td><td>0.0</td><td>0.0</td><td>0.0</td><td>0</td><td>0.0</td><td>0</td><td>0.0</td><td>0.0</td><td>0.0</td><td>0.0</td><td>0.0</td><td>0.0</td><td>0.0</td><td>0.0</td><td>0</td><td>0.0</td></tr><tr><td>0</td><td>0.0</td><td>0.0</td><td>1</td><td>0</td><td>0.0</td><td>0.0</td><td>0.0</td><td>0.0</td><td>0.0</td><td>0.0</td><td>0.0</td><td>0.0</td><td>0.0</td><td>0.0</td><td>0.0</td><td>0.0</td><td>0</td><td>0.0</td><td>0.0</td><td>0.0</td><td>0.0</td><td>0.0</td><td>0.0</td><td>0.0</td><td>0.0</td><td>0.0</td><td>0.0</td><td>0.0</td><td>0.0</td><td>0.0</td><td>0</td><td>0.0</td><td>0.0</td><td>0.0</td><td>0.0</td><td>0.0</td><td>0</td><td>0.0</td><td>0</td><td>0.0</td><td>0.0</td><td>0.0</td><td>0.0</td><td>0.0</td><td>0.0</td><td>0.0</td><td>0.0</td><td>0</td><td>0.0</td></tr><tr><td>0</td><td>0.2</td><td>0.0</td><td>0</td><td>0</td><td>0.0</td><td>0.0</td><td>0.0</td><td>0.0</td><td>0.0</td><td>0.0</td><td>0.0</td><td>0.0</td><td>0.0</td><td>0.2</td><td>0.0</td><td>0.0</td><td>0</td><td>0.0</td><td>0.0</td><td>0.0</td><td>0.0</td><td>0.0</td><td>0.0</td><td>0.0</td><td>0.0</td><td>0.2</td><td>0.0</td><td>0.2</td><td>0.0</td><td>0.2</td><td>0</td><td>0.0</td><td>0.0</td><td>0.0</td><td>0.0</td><td>0.0</td><td>0</td><td>0.0</td><td>0</td><td>0.0</td><td>0.0</td><td>0.0</td><td>0.0</td><td>0.0</td><td>0.0</td><td>0.0</td><td>0.0</td><td>0</td><td>0.0</td></tr></tbody></table></div>"
     },
     "execution_count": 3,
     "metadata": {},
     "output_type": "execute_result"
    }
   ],
   "source": [
    "data=pl.read_csv('/Users/mihailkondrasin/Desktop/Матпрак/сем 2/CSVS/MarkovChain.txt',separator=';')\n",
    "size=50\n",
    "data"
   ],
   "metadata": {
    "collapsed": false,
    "ExecuteTime": {
     "end_time": "2024-04-11T20:49:01.577427Z",
     "start_time": "2024-04-11T20:49:01.482997Z"
    }
   },
   "id": "3dffb0edd869fc9d"
  },
  {
   "cell_type": "code",
   "execution_count": 36,
   "outputs": [
    {
     "name": "stdout",
     "output_type": "stream",
     "text": [
      "2\n",
      "29\n",
      "3\n",
      "6\n",
      "8\n",
      "2\n",
      "[[0, 37], [1, 2, 5, 7, 9, 10, 11, 12, 13, 14, 15, 19, 20, 21, 25, 26, 27, 28, 29, 30, 32, 33, 34, 35, 42, 43, 44, 47, 49], [3, 17, 48], [4, 16, 18, 22, 41, 46], [6, 8, 23, 24, 36, 38, 40, 45], [31, 39]]\n"
     ]
    }
   ],
   "source": [
    "#неразложимые классы\n",
    "n=0\n",
    "classes=[]\n",
    "P=np.matrix(data)\n",
    "while n!=size:\n",
    "\tclas=[]\n",
    "\tchanges=1\n",
    "\tfor i in range(50):\n",
    "\t\tfind=0\n",
    "\t\tfor j in range(len(classes)):\n",
    "\t\t\tfor k in (classes[j]):\n",
    "\t\t\t\tif i==k:\n",
    "\t\t\t\t\tfind=1\n",
    "\t\t\t\t\tbreak\n",
    "\t\tif find==0:\n",
    "\t\t\tclas.append(i)\n",
    "\t\t\tbreak\n",
    "\twhile changes==1:\n",
    "\t\tchanges=0\n",
    "\t\tfor i in clas:\n",
    "\t\t\tfor j in range(50):\n",
    "\t\t\t\tif P[i,j]!=0:\n",
    "\t\t\t\t\tisfound=0\n",
    "\t\t\t\t\tfor k in clas:\n",
    "\t\t\t\t\t\tif k==j:\n",
    "\t\t\t\t\t\t\tisfound=1\n",
    "\t\t\t\t\tif isfound==0:\n",
    "\t\t\t\t\t\tclas.append(j)\n",
    "\t\t\t\t\t\tchanges=1\n",
    "\tn+=len(clas)\n",
    "\tclasses.append(clas)\n",
    "size=[]\n",
    "for i in range(len(classes)):\n",
    "\tclasses[i]=np.sort(classes[i])\n",
    "\tsize.append(len(classes[i]))\n",
    "\tprint(len(classes[i]))\n",
    "print([i.tolist() for i in classes])"
   ],
   "metadata": {
    "collapsed": false,
    "ExecuteTime": {
     "end_time": "2024-04-09T07:59:01.123757Z",
     "start_time": "2024-04-09T07:59:01.105743Z"
    }
   },
   "id": "b99720ca32bd8224"
  },
  {
   "cell_type": "code",
   "execution_count": 53,
   "outputs": [],
   "source": [
    "#функция делает матрицу, соответствующую неразложимому классу. Единицами отмечены элементы, достижимые за один шаг\n",
    "def otrezayem(P,coeffs):\n",
    "\totrezali=np.matrix([[0]*len(coeffs)]*len(coeffs))\n",
    "\tfor i in range(len(coeffs)):\n",
    "\t\tfor j in range(len(coeffs)):\n",
    "\t\t\tif P[coeffs[i],coeffs[j]]!=0:\n",
    "\t\t\t\totrezali[i,j]=1\n",
    "\treturn otrezali"
   ],
   "metadata": {
    "collapsed": false,
    "ExecuteTime": {
     "end_time": "2024-04-09T08:00:41.351383Z",
     "start_time": "2024-04-09T08:00:41.332627Z"
    }
   },
   "id": "18e6ac48fb9228be"
  },
  {
   "cell_type": "code",
   "execution_count": 54,
   "outputs": [],
   "source": [
    "def dostijimije(P,size,i):\n",
    "\tresults=[]\n",
    "\tfor j in range(size):\n",
    "\t\tif P[i,j]!=0:\n",
    "\t\t\tresults.append(j)\n",
    "\treturn results"
   ],
   "metadata": {
    "collapsed": false,
    "ExecuteTime": {
     "end_time": "2024-04-09T08:00:41.513147Z",
     "start_time": "2024-04-09T08:00:41.504407Z"
    }
   },
   "id": "562d55cd8d11ecfc"
  },
  {
   "cell_type": "code",
   "execution_count": 82,
   "outputs": [],
   "source": [
    "def isinlist(lst,el):\n",
    "\tfor i in lst:\n",
    "\t\tif el==i:\n",
    "\t\t\treturn 1\n",
    "\treturn 0"
   ],
   "metadata": {
    "collapsed": false,
    "ExecuteTime": {
     "end_time": "2024-04-09T08:19:08.908798Z",
     "start_time": "2024-04-09T08:19:08.890450Z"
    }
   },
   "id": "337e4141b455fbb9"
  },
  {
   "cell_type": "code",
   "execution_count": 78,
   "outputs": [],
   "source": [
    "def unity(lst):\n",
    "\tresult=[]\n",
    "\tfor i in lst:\n",
    "\t\tfor j in i:\n",
    "\t\t\tif isinlist(result,j)==0:\n",
    "\t\t\t\tresult.append(j)\n",
    "\treturn result"
   ],
   "metadata": {
    "collapsed": false,
    "ExecuteTime": {
     "end_time": "2024-04-09T08:18:14.442354Z",
     "start_time": "2024-04-09T08:18:14.424498Z"
    }
   },
   "id": "f972f263c6115d6c"
  },
  {
   "cell_type": "code",
   "execution_count": 79,
   "outputs": [],
   "source": [
    "def hasinter(lst1,lst2):\n",
    "\tfor i in lst1:\n",
    "\t\tfor j in lst2:\n",
    "\t\t\tif i==j:\n",
    "\t\t\t\treturn 1\n",
    "\treturn 0"
   ],
   "metadata": {
    "collapsed": false,
    "ExecuteTime": {
     "end_time": "2024-04-09T08:18:14.754064Z",
     "start_time": "2024-04-09T08:18:14.741281Z"
    }
   },
   "id": "a206e756cb54635e"
  },
  {
   "cell_type": "code",
   "execution_count": 89,
   "outputs": [],
   "source": [
    "#работаем с матрицами неразложимых классов\n",
    "def periods(P,size):\n",
    "\tclasses=[[0]]\n",
    "\tn=1\n",
    "\tk=0\n",
    "\twhile n!=size:\n",
    "\t\tdost=[]\n",
    "\t\tfor i in classes[k]:\n",
    "\t\t\tdost=unity([dost,dostijimije(P,size,i)])\n",
    "\t\tm=(k+1)%len(classes)\n",
    "\t\tif hasinter(classes[m],dost)==1:\n",
    "\t\t\tz=len(classes[(k+1)%len(classes)])\n",
    "\t\t\tclasses[0]=unity([classes[m],dost])\n",
    "\t\t\tn+=len(classes[m])-z\n",
    "\t\t\tk=(k+1)%len(classes)\n",
    "\t\telse:\n",
    "\t\t\tclasses.append(dost)\n",
    "\t\t\tn+=len(dost)\n",
    "\t\t\tk=(k+1)%len(classes)\n",
    "\treturn classes"
   ],
   "metadata": {
    "collapsed": false,
    "ExecuteTime": {
     "end_time": "2024-04-09T08:43:00.454937Z",
     "start_time": "2024-04-09T08:43:00.444737Z"
    }
   },
   "id": "d9153357edb089df"
  },
  {
   "cell_type": "code",
   "execution_count": 90,
   "outputs": [
    {
     "name": "stdout",
     "output_type": "stream",
     "text": [
      "[ 0 37]\n",
      "[[0 1]\n",
      " [1 0]]\n",
      "[[0], [37]]\n",
      "[ 1  2  5  7  9 10 11 12 13 14 15 19 20 21 25 26 27 28 29 30 32 33 34 35\n",
      " 42 43 44 47 49]\n",
      "[[1, 14, 26, 28, 30], [5, 9, 11, 20, 25, 43], [2, 7, 13, 19, 27, 32, 33, 34, 42], [10, 12, 15, 21, 29, 35, 44, 47, 49]]\n",
      "[ 3 17 48]\n",
      "[[0 1 0]\n",
      " [0 0 1]\n",
      " [1 0 0]]\n",
      "[[3], [17], [48]]\n",
      "[ 4 16 18 22 41 46]\n",
      "[[0 1 0 0 0 1]\n",
      " [0 0 1 1 1 0]\n",
      " [1 0 0 0 0 0]\n",
      " [1 0 0 0 0 0]\n",
      " [1 0 0 0 0 0]\n",
      " [0 0 1 1 1 0]]\n",
      "[[4], [16, 46], [18, 22, 41]]\n",
      "[ 6  8 23 24 36 38 40 45]\n",
      "[[0 0 0 1 1 0 1 1]\n",
      " [0 0 0 1 1 0 1 1]\n",
      " [0 0 0 1 1 0 1 1]\n",
      " [1 1 1 0 0 1 0 0]\n",
      " [1 1 1 0 0 1 0 0]\n",
      " [0 0 0 1 1 0 1 1]\n",
      " [1 1 1 0 0 1 0 0]\n",
      " [1 1 1 0 0 1 0 0]]\n",
      "[[6, 8, 23, 38], [24, 36, 40, 45]]\n",
      "[31 39]\n",
      "[[0 1]\n",
      " [1 0]]\n",
      "[[31], [39]]\n"
     ]
    }
   ],
   "source": [
    "for i in range(len(classes)):\n",
    "\tcoeffs=classes[i]\n",
    "\tprint(coeffs)\n",
    "\tP=np.matrix(data)\n",
    "\tp=otrezayem(P,coeffs)\n",
    "\tif size[i]<9:\n",
    "\t\tprint(p)\n",
    "\tsets=periods(p,size[i])\n",
    "\treturning=[]\n",
    "\tfor i in sets:\n",
    "\t\treturning.append([])\n",
    "\t\tfor j in i:\n",
    "\t\t\treturning[len(returning)-1].append(coeffs[j])\n",
    "\tprint(returning)"
   ],
   "metadata": {
    "collapsed": false,
    "ExecuteTime": {
     "end_time": "2024-04-09T08:43:00.970983Z",
     "start_time": "2024-04-09T08:43:00.943652Z"
    }
   },
   "id": "95af34f7c16ffa96"
  },
  {
   "cell_type": "markdown",
   "source": [
    "4.Пусть ξn – ЦМ с м.в.п. P. Какую м.в.п. имеет обращенная цепь ξN−n? Исследовать к какому распределению сходится а) прямая\n",
    "цепь б) обращенная цепь?"
   ],
   "metadata": {
    "collapsed": false
   },
   "id": "d404675979a6bfe6"
  },
  {
   "cell_type": "code",
   "execution_count": 6,
   "outputs": [],
   "source": [
    "P=[[0,0,0.5,0.5],\n",
    "   [0,0,0,1],\n",
    "   [0.5,0,0,0.5],\n",
    "   [1/3,1/3,1/3,0]]"
   ],
   "metadata": {
    "collapsed": false,
    "ExecuteTime": {
     "end_time": "2024-05-29T08:43:03.941471Z",
     "start_time": "2024-05-29T08:43:03.927142Z"
    }
   },
   "id": "a8943135b8ab8f27"
  },
  {
   "cell_type": "code",
   "execution_count": 8,
   "outputs": [
    {
     "name": "stdout",
     "output_type": "stream",
     "text": [
      "[[0.         0.         0.5        0.5       ]\n",
      " [0.         0.         0.         1.        ]\n",
      " [0.5        0.         0.         0.5       ]\n",
      " [0.33333333 0.33333333 0.33333333 0.        ]]\n",
      "[0.25  0.125 0.25  0.375]\n",
      "[[0.         0.         0.5        0.5       ]\n",
      " [0.         0.         0.         1.        ]\n",
      " [0.5        0.         0.         0.5       ]\n",
      " [0.33333333 0.33333333 0.33333333 0.        ]]\n"
     ]
    }
   ],
   "source": [
    "A=np.matrix(P)\n",
    "A,b,n=transformation(A)\n",
    "c=grid_search(A,b,n)\n",
    "Inv=[]\n",
    "A=np.matrix(P)\n",
    "for i in range(4):\n",
    "\tInv.append([])\n",
    "\tfor j in range(4):\n",
    "\t\tInv[i].append(A[j,i]*c[j]/c[i])\n",
    "print(A)\n",
    "print(c)\n",
    "B=np.matrix(Inv)\n",
    "print(B)\n",
    "#матрицы совпадают...\n"
   ],
   "metadata": {
    "collapsed": false,
    "ExecuteTime": {
     "end_time": "2024-05-29T08:43:12.132650Z",
     "start_time": "2024-05-29T08:43:12.113930Z"
    }
   },
   "id": "82e7f59519fd132b"
  },
  {
   "cell_type": "markdown",
   "source": [
    "5.Моделировать случайное блуждание а) на целочисленной решетке прямой, выбирающее равновероятно\n",
    "одну из двух соседних точек б) на целочисленной решетке плоскости, выбирающее равновероятно одну\n",
    "из четырех соседних точек в) в трехмерном пространстве, выбирающее равновероятно одну из шести\n",
    "соседних точек. Какие из них, исходя из моделирования, оказались возвратными?"
   ],
   "metadata": {
    "collapsed": false
   },
   "id": "32eaece347689cf1"
  },
  {
   "cell_type": "code",
   "execution_count": 25,
   "outputs": [
    {
     "name": "stdout",
     "output_type": "stream",
     "text": [
      "98\n",
      "72\n",
      "35\n"
     ]
    }
   ],
   "source": [
    "results=[0,0,0]\n",
    "moments=[[],[],[]]\n",
    "for mode in range(1,4):\n",
    "\tfor attempts in range(100):\n",
    "\t\tcur=[0]*mode\n",
    "\t\tfor i in range(1000):\n",
    "\t\t\tadd=np.random.randint(mode*2)\n",
    "\t\t\tif add%2==0:\n",
    "\t\t\t\tcur[add//2]-=1\n",
    "\t\t\telse:\n",
    "\t\t\t\tcur[add//2]+=1\n",
    "\t\t\tif cur==[0]*mode:\n",
    "\t\t\t\tresults[mode-1]+=1\n",
    "\t\t\t\tmoments[mode-1].append(i)\n",
    "\t\t\t\tbreak\n",
    "\tprint(results[mode-1])\t"
   ],
   "metadata": {
    "collapsed": false,
    "ExecuteTime": {
     "end_time": "2024-05-13T20:20:37.718339Z",
     "start_time": "2024-05-13T20:20:37.537255Z"
    }
   },
   "id": "82818e22eece4739"
  },
  {
   "cell_type": "code",
   "execution_count": 28,
   "outputs": [
    {
     "name": "stdout",
     "output_type": "stream",
     "text": [
      "100\n",
      "77\n",
      "43\n"
     ]
    }
   ],
   "source": [
    "results=[0,0,0]\n",
    "moments=[[],[],[]]\n",
    "for mode in range(1,4):\n",
    "\tfor attempts in range(100):\n",
    "\t\tcur=[0]*mode\n",
    "\t\tfor i in range(100000):\n",
    "\t\t\tadd=np.random.randint(mode*2)\n",
    "\t\t\tif add%2==0:\n",
    "\t\t\t\tcur[add//2]-=1\n",
    "\t\t\telse:\n",
    "\t\t\t\tcur[add//2]+=1\n",
    "\t\t\tif cur==[0]*mode:\n",
    "\t\t\t\tresults[mode-1]+=1\n",
    "\t\t\t\tmoments[mode-1].append(i)\n",
    "\t\t\t\tbreak\n",
    "\tprint(results[mode-1])\t"
   ],
   "metadata": {
    "collapsed": false,
    "ExecuteTime": {
     "end_time": "2024-05-13T20:21:15.352409Z",
     "start_time": "2024-05-13T20:20:59.911945Z"
    }
   },
   "id": "6d696dc4a7df3da8"
  },
  {
   "cell_type": "code",
   "execution_count": 24,
   "outputs": [
    {
     "name": "stdout",
     "output_type": "stream",
     "text": [
      "100\n",
      "89\n",
      "39\n"
     ]
    }
   ],
   "source": [
    "results=[0,0,0]\n",
    "moments=[[],[],[]]\n",
    "for mode in range(1,4):\n",
    "\tfor attempts in range(100):\n",
    "\t\tcur=[0]*mode\n",
    "\t\tfor i in range(100000000):\n",
    "\t\t\tadd=np.random.randint(mode*2)\n",
    "\t\t\tif add%2==0:\n",
    "\t\t\t\tcur[add//2]-=1\n",
    "\t\t\telse:\n",
    "\t\t\t\tcur[add//2]+=1\n",
    "\t\t\tif cur==[0]*mode:\n",
    "\t\t\t\tresults[mode-1]+=1\n",
    "\t\t\t\tmoments[mode-1].append(i)\n",
    "\t\t\t\tbreak\n",
    "\tprint(results[mode-1])\t"
   ],
   "metadata": {
    "collapsed": false,
    "ExecuteTime": {
     "start_time": "2024-05-10T00:58:39.498864Z"
    }
   },
   "id": "5e3bf1ed36fae6bd"
  },
  {
   "cell_type": "code",
   "execution_count": null,
   "outputs": [],
   "source": [],
   "metadata": {
    "collapsed": false
   },
   "id": "6cf0dd013d2ea74c"
  }
 ],
 "metadata": {
  "kernelspec": {
   "display_name": "Python 3",
   "language": "python",
   "name": "python3"
  },
  "language_info": {
   "codemirror_mode": {
    "name": "ipython",
    "version": 2
   },
   "file_extension": ".py",
   "mimetype": "text/x-python",
   "name": "python",
   "nbconvert_exporter": "python",
   "pygments_lexer": "ipython2",
   "version": "2.7.6"
  }
 },
 "nbformat": 4,
 "nbformat_minor": 5
}
